{
 "cells": [
  {
   "cell_type": "markdown",
   "id": "61bc251d-4aa3-46f2-a2a2-5c7567efbc3f",
   "metadata": {},
   "source": [
    "# Cross-species analysis: cyno and human lung\n",
    "Dan Carvalho"
   ]
  },
  {
   "cell_type": "markdown",
   "id": "ebf7c7ff-1ea9-4f85-a3ea-fad94c3989a0",
   "metadata": {},
   "source": [
    "### Settings"
   ]
  },
  {
   "cell_type": "code",
   "execution_count": 1,
   "id": "249d6d5d-3506-4e03-91bb-f13fa363116c",
   "metadata": {
    "tags": []
   },
   "outputs": [
    {
     "name": "stderr",
     "output_type": "stream",
     "text": [
      "/home/carvadan/.local/lib/python3.11/site-packages/scvi/_settings.py:63: UserWarning: Since v1.0.0, scvi-tools no longer uses a random seed by default. Run `scvi.settings.seed = 0` to reproduce results from previous versions.\n",
      "  self.seed = seed\n",
      "/home/carvadan/.local/lib/python3.11/site-packages/scvi/_settings.py:70: UserWarning: Setting `dl_pin_memory_gpu_training` is deprecated in v1.0 and will be removed in v1.1. Please pass in `pin_memory` to the data loaders instead.\n",
      "  self.dl_pin_memory_gpu_training = (\n"
     ]
    }
   ],
   "source": [
    "import sys\n",
    "import numpy as np\n",
    "import pandas as pd\n",
    "import anndata as ad\n",
    "import scanpy as sc\n",
    "import glob\n",
    "import re\n",
    "import scvi\n",
    "import matplotlib.pyplot as plt\n",
    "import seaborn as sns\n",
    "import os\n",
    "from scipy.sparse import csr_matrix\n",
    "from scipy import stats\n",
    "import leidenalg"
   ]
  },
  {
   "cell_type": "markdown",
   "id": "7abc5d00-b331-4743-a479-6c7650e4d295",
   "metadata": {},
   "source": [
    "#### Homology data frame\n",
    "The first step is to create a homology data frame. This will be used, later on, to merge and filter the AnnData objects of cyno and human."
   ]
  },
  {
   "cell_type": "code",
   "execution_count": 2,
   "id": "586a03df-cccd-4b90-bf23-22f8db7af92a",
   "metadata": {},
   "outputs": [],
   "source": [
    "# read in the homology tsv table from BioMart (website, not R package)\n",
    "homology = pd.read_table('/home/carvadan/mart_export.tsv')\n",
    "# filter by one-to-one, one-to-many, many-to-many\n",
    "o2o = homology[homology['Crab-eating macaque homology type'] == 'ortholog_one2one']\n",
    "o2m = homology[homology['Crab-eating macaque homology type'] == 'ortholog_one2many']\n",
    "m2m = homology[homology['Crab-eating macaque homology type'] == 'ortholog_many2many']\n",
    "# merge all into one by row binding\n",
    "homology_df = pd.concat([o2o, o2m, m2m], axis = 0)"
   ]
  },
  {
   "cell_type": "code",
   "execution_count": 5,
   "id": "da84a74e-9ab0-4ad0-98d9-49d9a8177a38",
   "metadata": {},
   "outputs": [
    {
     "data": {
      "text/plain": [
       "19667"
      ]
     },
     "execution_count": 5,
     "metadata": {},
     "output_type": "execute_result"
    }
   ],
   "source": [
    "len(gene_mapping3)"
   ]
  },
  {
   "cell_type": "markdown",
   "id": "3cde4438-1b5e-4df1-b7f8-3247deffbfa6",
   "metadata": {},
   "source": [
    "#### Create a gene mapper"
   ]
  },
  {
   "cell_type": "markdown",
   "id": "1da6ceae-3978-4554-af72-f49a1f94cd47",
   "metadata": {},
   "source": [
    "The ```zip()``` function here is neat. It takes at least 2 lists and turns them into a list of tuples. We then pass that inside the ```dict()``` function and it automatically creates a dictionary for us. No need to mess around with for-loops so assign key-value pairs from each list. Great function!"
   ]
  },
  {
   "cell_type": "markdown",
   "id": "f5788fe1-a7bc-4027-97c7-237c18b7d9c9",
   "metadata": {},
   "source": [
    "**These are some gene mappings I think I will need for the analysis.**"
   ]
  },
  {
   "cell_type": "code",
   "execution_count": 4,
   "id": "3c36b209-53a8-4135-8a4e-f21c821974c1",
   "metadata": {},
   "outputs": [],
   "source": [
    "# gene mapper\n",
    "gene_mapping = dict(zip(homology_df['Gene stable ID'], homology_df['Crab-eating macaque gene name']))\n",
    "gene_mapping2 = dict(zip(homology_df['Gene stable ID'], homology_df['Gene name']))\n",
    "gene_mapping3 = dict(zip(homology_df['Gene name'], homology_df['Crab-eating macaque gene name']))\n",
    "gene_mapper = dict(zip(homology_df['Crab-eating macaque gene name'], homology_df['Gene name']))"
   ]
  },
  {
   "cell_type": "markdown",
   "id": "d01fa2be-0522-4eb6-905e-713886dbedfe",
   "metadata": {},
   "source": [
    "#### Mitochondrial Genes"
   ]
  },
  {
   "cell_type": "markdown",
   "id": "297f1cd2-e9c1-4ca3-9e3b-04c2dda5179f",
   "metadata": {},
   "source": [
    "These are the mitochondrial gene names for cynomolgus monkey. I pull this from NCBI; however, it would probably be easier to do on Ensembl's BioMart online."
   ]
  },
  {
   "cell_type": "code",
   "execution_count": null,
   "id": "058e52ef-2fc4-4144-93e8-6c962a28d8d9",
   "metadata": {},
   "outputs": [],
   "source": [
    "# mitochondrial genes for cynomolgus monkey\n",
    "mito_genes = [\"KEG98_t01\", \"KEG98_r02\", \"KEG98_t02\", \"KEG98_r01\", \n",
    "              \"KEG98_t03\", \"ND1\", \"KEG98_t04\", \"KEG98_t05\", \n",
    "              \"KEG98_t06\", \"ND2\", \"KEG98_t07\", \"KEG98_t08\", \n",
    "              \"KEG98_t09\", \"KEG98_t10\", \"KEG98_t11\", \"COX1\", \n",
    "              \"KEG98_t12\", \"KEG98_t13\", \"COX2\", \"KEG98_t14\", \n",
    "              \"ATP8\", \"ATP6\", \"COX3\", \"KEG98_t15\", \"ND3\", \n",
    "              \"KEG98_t16\", \"ND4L\", \"ND4\", \"KEG98_t17\", \n",
    "              \"KEG98_t18\", \"KEG98_t19\", \"ND5\", \"ND6\", \n",
    "              \"KEG98_t20\", \"CYTB\", \"KEG98_t21\", \"KEG98_t22\"]"
   ]
  },
  {
   "cell_type": "markdown",
   "id": "2069cfb4-3efa-499a-8f59-6c5be0fc6ffd",
   "metadata": {},
   "source": [
    "These are the Ensembl gene IDs for all the human mitochondrial genes (I pulled these from BioMart [online]; 37 total)."
   ]
  },
  {
   "cell_type": "code",
   "execution_count": null,
   "id": "1c5bc457-386a-4b7a-b8c8-3a88dd81a911",
   "metadata": {
    "tags": []
   },
   "outputs": [],
   "source": [
    "# ENSEMBL mito genes\n",
    "ENS_mt = ['ENSG00000210049', 'ENSG00000211459', 'ENSG00000210077', 'ENSG00000210082', \n",
    "          'ENSG00000209082', 'ENSG00000198888', 'ENSG00000210100', 'ENSG00000210107', \n",
    "          'ENSG00000210112', 'ENSG00000198763', 'ENSG00000210117', 'ENSG00000210127', \n",
    "          'ENSG00000210135', 'ENSG00000210140', 'ENSG00000210144', 'ENSG00000198804', \n",
    "          'ENSG00000210151', 'ENSG00000210154', 'ENSG00000198712', 'ENSG00000210156', \n",
    "          'ENSG00000228253', 'ENSG00000198899', 'ENSG00000198938', 'ENSG00000210164', \n",
    "          'ENSG00000198840', 'ENSG00000210174', 'ENSG00000212907', 'ENSG00000198886', \n",
    "          'ENSG00000210176', 'ENSG00000210184', 'ENSG00000210191', 'ENSG00000198786', \n",
    "          'ENSG00000198695', 'ENSG00000210194', 'ENSG00000198727', 'ENSG00000210195', \n",
    "          'ENSG00000210196']"
   ]
  },
  {
   "cell_type": "markdown",
   "id": "dfe79e70-7fb5-4afb-9297-23a4677a3def",
   "metadata": {},
   "source": [
    "## Cyno data"
   ]
  },
  {
   "cell_type": "markdown",
   "id": "c030bfe3-10e3-484b-8a5b-f213feeb1b83",
   "metadata": {},
   "source": [
    "First, let's set the path to the cyno data"
   ]
  },
  {
   "cell_type": "code",
   "execution_count": null,
   "id": "a88c1217-2eba-4989-9c0b-be2cf28cf1d6",
   "metadata": {},
   "outputs": [],
   "source": [
    "# path to matrices\n",
    "FC_path = '/home/carvadan/female_cyno/filtered_feature_bc_matrix/'\n",
    "MC_path = '/home/carvadan/male_cyno/filtered_feature_bc_matrix/'"
   ]
  },
  {
   "cell_type": "markdown",
   "id": "40102fe5-fd24-4ae6-b9ef-498bce31ba22",
   "metadata": {},
   "source": [
    "Now we can create the AnnData objects for each matrix by using Scanpy\n",
    "`sc.read_h5ad(...)`"
   ]
  },
  {
   "cell_type": "code",
   "execution_count": null,
   "id": "f586efb4-5b44-4cd2-9e93-0b90f8d58dc9",
   "metadata": {},
   "outputs": [],
   "source": [
    "# create AnnData\n",
    "FC = sc.read_10x_mtx(FC_path)\n",
    "MC = sc.read_10x_mtx(MC_path)"
   ]
  },
  {
   "cell_type": "markdown",
   "id": "364b418e-ef31-435c-9fd8-1f50749e41de",
   "metadata": {},
   "source": [
    "Let's check out each AnnData object"
   ]
  },
  {
   "cell_type": "code",
   "execution_count": null,
   "id": "26760adb-314c-4763-abc5-6cd2a4f5d08b",
   "metadata": {},
   "outputs": [],
   "source": [
    "FC"
   ]
  },
  {
   "cell_type": "code",
   "execution_count": null,
   "id": "abd7681a-c70a-4db5-846d-7bf77de56460",
   "metadata": {},
   "outputs": [],
   "source": [
    "MC"
   ]
  },
  {
   "cell_type": "markdown",
   "id": "89352a9c-2090-4539-a52c-408c70cb32d3",
   "metadata": {},
   "source": [
    "Contrary to Seurat in R, AnnData objects (what Scanpy uses) are set up differently. In Seurat, we have the genes as rows and the cells as columns; in Scanpy (via AnnData) we have the rows as cell and the columns as genes. This is something to keep in mind! We may have to transpose these count matrices which is easily performed by appending `.T` to the end of the count matrix (which is `nameofobject.X`)"
   ]
  },
  {
   "cell_type": "markdown",
   "id": "e8b428bd-062b-4cca-8629-7c47cb86ad98",
   "metadata": {},
   "source": [
    "### Doublet removal"
   ]
  },
  {
   "cell_type": "markdown",
   "id": "1c8bbb8d-931b-4769-86a1-a54e3cf50c03",
   "metadata": {},
   "source": [
    "This is optional, but preferred. I would like for this analysis to be of high-quality; let's do it."
   ]
  },
  {
   "cell_type": "markdown",
   "id": "2e8c824e-1d14-451e-abd9-5deb1fbacc82",
   "metadata": {},
   "source": [
    "This method will be using `scvi-tools`. We will train a machine learning model to do the doublet detection. The thing to note about this is that the data cannot be concatenated yet; we cannot merge the two cyno datasets OR the human data. This is mainly due to batch effects that could affect the ability to distinguish a doublet from a singlet. Therefore, I will be doing the analysis on the two cyno (male and female) datasets separately before merging them. For the human I will merge them then do this step. This is because they come from the same study, so we shouldn't have to worry aobut batch effects too much."
   ]
  },
  {
   "cell_type": "markdown",
   "id": "fdc522cc-5187-4d3b-9172-f7037a674c58",
   "metadata": {},
   "source": [
    "#### Filter down the genes"
   ]
  },
  {
   "cell_type": "code",
   "execution_count": null,
   "id": "533ddecd-bdd6-40c1-bcf1-f9dd988dd18a",
   "metadata": {},
   "outputs": [],
   "source": [
    "# here we are only keeping genes that are found in AT LEAST 10 cells\n",
    "\n",
    "sc.pp.filter_genes(FC, min_cells = 10)\n",
    "sc.pp.filter_genes(MC, min_cells =10)"
   ]
  },
  {
   "cell_type": "code",
   "execution_count": null,
   "id": "8f024537-92c7-486e-aa25-902d61a6be9a",
   "metadata": {},
   "outputs": [],
   "source": [
    "# let's look at both objects again\n",
    "print(FC, '\\n\\n', MC)"
   ]
  },
  {
   "cell_type": "markdown",
   "id": "4eb3becd-7104-4330-809a-e96815093efc",
   "metadata": {},
   "source": [
    "As we can see, it removed a lot of the genes that were not expressed in at least 10 cells."
   ]
  },
  {
   "cell_type": "markdown",
   "id": "2d602617-c7ba-4323-8451-da8de21a4bc0",
   "metadata": {},
   "source": [
    "#### Keep top 2,000 variable genes"
   ]
  },
  {
   "cell_type": "code",
   "execution_count": null,
   "id": "31781ce5-2f7e-4178-ae04-cc2c7cc12277",
   "metadata": {},
   "outputs": [],
   "source": [
    "# let's go ahead and keep the top 2,000 vaiable genes that more-or-less describe the data the best for both female and male cyno\n",
    "sc.pp.highly_variable_genes(FC, n_top_genes = 2000, subset = True, flavor = 'seurat_v3')\n",
    "sc.pp.highly_variable_genes(MC, n_top_genes = 2000, subset = True, flavor = 'seurat_v3')"
   ]
  },
  {
   "cell_type": "markdown",
   "id": "c4d67d47-2364-4609-bd4d-1fbca8688f16",
   "metadata": {},
   "source": [
    "So, if we look at the AnnData objects again we will see that we are down to 2,000 cells. Let's have a look below."
   ]
  },
  {
   "cell_type": "code",
   "execution_count": null,
   "id": "0c2ea5fa-9125-4879-bd83-21f92a1d68ed",
   "metadata": {},
   "outputs": [],
   "source": [
    "print(FC, '\\n\\n', MC)"
   ]
  },
  {
   "cell_type": "markdown",
   "id": "5a4454be-ac69-452c-bde7-0cdc1165910a",
   "metadata": {},
   "source": [
    "### Train `scvi` model for doublet prediction"
   ]
  },
  {
   "cell_type": "markdown",
   "id": "c8f87ba6-aa0a-4c35-bc01-5d1ade47b100",
   "metadata": {},
   "source": [
    "Great! Now we want to set up a `scvi` model so that we can then enable doublet prediction. It will be a very simple model set-up."
   ]
  },
  {
   "cell_type": "markdown",
   "id": "c634f093-e99c-4ded-98c8-6c6794096009",
   "metadata": {},
   "source": [
    "#### For female"
   ]
  },
  {
   "cell_type": "code",
   "execution_count": null,
   "id": "8b6a706e-d471-4fda-b38f-93c049d7ecdd",
   "metadata": {},
   "outputs": [],
   "source": [
    "scvi.model.SCVI.setup_anndata(FC)\n",
    "vae_1 = scvi.model.SCVI(FC)\n",
    "vae_1.train()"
   ]
  },
  {
   "cell_type": "markdown",
   "id": "3178c8b0-b563-4e7f-9c1a-8a709efdd735",
   "metadata": {},
   "source": [
    "Now we can go ahead and train the `SOLO` model which detects doublets"
   ]
  },
  {
   "cell_type": "code",
   "execution_count": null,
   "id": "8abe451e-b237-4d94-9e83-5dba7239ff7e",
   "metadata": {},
   "outputs": [],
   "source": [
    "solo_1 = scvi.external.SOLO.from_scvi_model(vae_1)\n",
    "solo_1.train()"
   ]
  },
  {
   "cell_type": "markdown",
   "id": "530bfd51-eacc-49e7-9b61-e2f846814d87",
   "metadata": {},
   "source": [
    "Let's look at the predictions"
   ]
  },
  {
   "cell_type": "code",
   "execution_count": null,
   "id": "a6d640d9-c8a6-40fc-9a63-b84cb3b2b4ad",
   "metadata": {},
   "outputs": [],
   "source": [
    "solo_1.predict()"
   ]
  },
  {
   "cell_type": "markdown",
   "id": "09e65b5a-b739-485f-aa58-4bc367e0e918",
   "metadata": {},
   "source": [
    "We will make a new data frame from the above data frame, and add a new column to label what the predictions are actually saying"
   ]
  },
  {
   "cell_type": "code",
   "execution_count": null,
   "id": "d00d139b-762f-4cb8-9f6c-1b23874b28cf",
   "metadata": {},
   "outputs": [],
   "source": [
    "# call the new data frame df1\n",
    "df1 = solo_1.predict()\n",
    "# create new column\n",
    "df1['prediction'] = solo_1.predict(soft = False)\n",
    "\n",
    "# may need to uncomment code under here in case scvi adds `-0` to the end of the barcodes\n",
    "# df1.index = df1.index.map(lambda x: x[:-2])\n",
    "df1"
   ]
  },
  {
   "cell_type": "markdown",
   "id": "9b454939-da09-46d1-8079-5138a39b5a03",
   "metadata": {},
   "source": [
    "Let's look at the data now"
   ]
  },
  {
   "cell_type": "code",
   "execution_count": null,
   "id": "fff127e3-79ae-4293-9b41-de43499a1031",
   "metadata": {},
   "outputs": [],
   "source": [
    "df1.groupby('prediction').count()"
   ]
  },
  {
   "cell_type": "markdown",
   "id": "08666178-9403-4bf5-94c8-38d906eb5284",
   "metadata": {},
   "source": [
    "Now we can see how many were labelled as doubles and singlets. We need to be sure before we just throw away cells that may actually be singlets."
   ]
  },
  {
   "cell_type": "code",
   "execution_count": null,
   "id": "547d5851-b34a-45be-81fb-d4fbd11c71ba",
   "metadata": {},
   "outputs": [],
   "source": [
    "# add a new difference column\n",
    "df1['dif'] = df1.doublet - df1.singlet\n",
    "df1"
   ]
  },
  {
   "cell_type": "markdown",
   "id": "0ae89240-6660-4b96-84c2-c8b9b6188505",
   "metadata": {},
   "source": [
    "Let's plot the distribution to see what the data looks like"
   ]
  },
  {
   "cell_type": "markdown",
   "id": "7289dc37-6256-4572-9609-60582a7b6923",
   "metadata": {},
   "source": [
    "We will use `seaborn` (imported as `sns`) to visualize only the doublets, where x is the difference between doublets and singlets"
   ]
  },
  {
   "cell_type": "code",
   "execution_count": null,
   "id": "3a1d9da0-e645-49a6-9bee-12279542cee7",
   "metadata": {},
   "outputs": [],
   "source": [
    "sns.displot(df1[df1.prediction == 'doublet'], x = 'dif')"
   ]
  },
  {
   "cell_type": "markdown",
   "id": "413e177e-909f-4047-a75c-9ddce892fa69",
   "metadata": {},
   "source": [
    "Creating a new dataframe named `doublets` and filtering out cells above 1"
   ]
  },
  {
   "cell_type": "code",
   "execution_count": null,
   "id": "b972fa8a-cb53-43b4-b707-7f2d8f17a2a3",
   "metadata": {},
   "outputs": [],
   "source": [
    "doublets1 = df1[(df1.prediction == 'doublet') & (df1.dif > 1)]\n",
    "doublets1"
   ]
  },
  {
   "cell_type": "markdown",
   "id": "5b70e9c5-11cc-461e-aec2-10258adfb415",
   "metadata": {},
   "source": [
    "This dataframe will contain the corresponding cell barcodes and the doublets. Therefore, we can use this dataframe (since it has cell barcodes) to directly filter the fresh, reloaded AnnData object which will be shown in the cell below."
   ]
  },
  {
   "cell_type": "code",
   "execution_count": null,
   "id": "f293f02b-e925-44fa-be9e-af626a657e12",
   "metadata": {},
   "outputs": [],
   "source": [
    "FC = sc.read_10x_mtx(FC_path)\n",
    "FC"
   ]
  },
  {
   "cell_type": "markdown",
   "id": "d7f864da-96ee-4762-bc1a-815d56e6f78f",
   "metadata": {},
   "source": [
    "Now we have the fresh AnnData object. Let's remove the doublets!"
   ]
  },
  {
   "cell_type": "code",
   "execution_count": null,
   "id": "d19ec3dc-c981-4496-9bc7-c4a2fb9361e1",
   "metadata": {},
   "outputs": [],
   "source": [
    "FC.obs['doublet'] = FC.obs.index.isin(doublets1.index)"
   ]
  },
  {
   "cell_type": "markdown",
   "id": "0d8cc359-d76d-45f2-8275-187108ee65ba",
   "metadata": {},
   "source": [
    "Showing that the `doublet` column was successfully created."
   ]
  },
  {
   "cell_type": "code",
   "execution_count": null,
   "id": "3c5bb3aa-8954-4d3c-b5c5-ac5aea7470b1",
   "metadata": {},
   "outputs": [],
   "source": [
    "FC.obs"
   ]
  },
  {
   "cell_type": "markdown",
   "id": "d1f459b0-8fab-4ca8-80fa-b64f7293e04d",
   "metadata": {},
   "source": [
    "Now we can filter for the ones that are false! Here, we use the tilde (~) to keep only the singlets which are denoted as 'False' in the `doublets` column."
   ]
  },
  {
   "cell_type": "code",
   "execution_count": null,
   "id": "4bf348b5-c965-4700-8c24-fe37d6b76cca",
   "metadata": {},
   "outputs": [],
   "source": [
    "FC = FC[~FC.obs.doublet] # the `~` means you keep the ones that are False"
   ]
  },
  {
   "cell_type": "markdown",
   "id": "c69d197a-5ebb-419c-9cb5-ef1ed55e45ee",
   "metadata": {},
   "source": [
    "Add a sample identifier for the integration step later in this analysis."
   ]
  },
  {
   "cell_type": "code",
   "execution_count": null,
   "id": "4458141b-bf8f-4d92-bd42-f7559c5124d5",
   "metadata": {},
   "outputs": [],
   "source": [
    "# add identifier\n",
    "FC.obs['Sample'] = 'female'"
   ]
  },
  {
   "cell_type": "markdown",
   "id": "f2fceb0b-c6b3-4afc-907f-4dd3ccba2ecd",
   "metadata": {},
   "source": [
    "Making sure it worked..."
   ]
  },
  {
   "cell_type": "code",
   "execution_count": null,
   "id": "1d738841-16a0-4491-9cba-e64b0e42be7a",
   "metadata": {},
   "outputs": [],
   "source": [
    "FC.obs"
   ]
  },
  {
   "cell_type": "markdown",
   "id": "b937ee96-6713-48a6-9cb6-c596031eb777",
   "metadata": {},
   "source": [
    "Now we have our fresh, raw, AnnData object with all the doublets removed!"
   ]
  },
  {
   "cell_type": "markdown",
   "id": "b96abc83-16a8-4670-baff-077d109bab4c",
   "metadata": {},
   "source": [
    "Let's save this for use later."
   ]
  },
  {
   "cell_type": "code",
   "execution_count": null,
   "id": "ce499efd-64b7-4c14-9393-dc3fb04a1f10",
   "metadata": {},
   "outputs": [],
   "source": [
    "FC.write_h5ad(filename = 'raw_female_cyno.h5ad')"
   ]
  },
  {
   "cell_type": "markdown",
   "id": "3b3048ae-e649-4bb9-8cf3-edfdd7dd73fb",
   "metadata": {},
   "source": [
    "#### For male\n",
    "\n",
    "**Note: The workflow here is _exactly_ the same as what we did for the female cyno above. I am leaving out the comments on what's going on for the sake of brevity. If a refresher of what's happening is needed, just take a look above. :)**"
   ]
  },
  {
   "cell_type": "code",
   "execution_count": null,
   "id": "5f22f659-614a-409b-a089-1cafa97f7f34",
   "metadata": {},
   "outputs": [],
   "source": [
    "scvi.model.SCVI.setup_anndata(MC)\n",
    "vae_2 = scvi.model.SCVI(MC)\n",
    "vae_2.train()"
   ]
  },
  {
   "cell_type": "code",
   "execution_count": null,
   "id": "cd059221-c182-4f12-b71b-db6f420955f0",
   "metadata": {},
   "outputs": [],
   "source": [
    "solo_2 = scvi.external.SOLO.from_scvi_model(vae_2)\n",
    "solo_2.train()"
   ]
  },
  {
   "cell_type": "code",
   "execution_count": null,
   "id": "ee6b6e2c-2b68-4605-aba1-ed6db5882113",
   "metadata": {},
   "outputs": [],
   "source": [
    "solo_2.predict()"
   ]
  },
  {
   "cell_type": "code",
   "execution_count": null,
   "id": "4718e628-3527-47aa-8f08-5097dc96ed4e",
   "metadata": {},
   "outputs": [],
   "source": [
    "# call the new data frame df1\n",
    "df2 = solo_2.predict()\n",
    "# create new column\n",
    "df2['prediction'] = solo_2.predict(soft = False)\n",
    "\n",
    "# may need to uncomment code under here in case scvi adds `-0` to the end of the barcodes\n",
    "# df1.index = df1.index.map(lambda x: x[:-2])\n",
    "df2"
   ]
  },
  {
   "cell_type": "code",
   "execution_count": null,
   "id": "6cfca4ef-a34d-425b-b87c-f4be662870b5",
   "metadata": {},
   "outputs": [],
   "source": [
    "df2.groupby('prediction').count()"
   ]
  },
  {
   "cell_type": "code",
   "execution_count": null,
   "id": "3499a199-228a-44bb-b8a2-d3fc757c089a",
   "metadata": {},
   "outputs": [],
   "source": [
    "# add a new difference column\n",
    "df2['dif'] = df2.doublet - df2.singlet\n",
    "df2"
   ]
  },
  {
   "cell_type": "code",
   "execution_count": null,
   "id": "0ed9f9b7-5842-43f5-bdca-cbab5ec3196b",
   "metadata": {},
   "outputs": [],
   "source": [
    "sns.displot(df1[df1.prediction == 'doublet'], x = 'dif')"
   ]
  },
  {
   "cell_type": "code",
   "execution_count": null,
   "id": "865285de-cc5f-4f8e-b8e9-f7a82c74a6ed",
   "metadata": {},
   "outputs": [],
   "source": [
    "doublets2 = df2[(df2.prediction == 'doublet') & (df2.dif > 1)]\n",
    "doublets2"
   ]
  },
  {
   "cell_type": "code",
   "execution_count": null,
   "id": "cfd57996-9b7e-44a3-90c5-7eca51d233ab",
   "metadata": {},
   "outputs": [],
   "source": [
    "MC"
   ]
  },
  {
   "cell_type": "code",
   "execution_count": null,
   "id": "c9b12920-63b6-4d91-9564-70a58ea74df0",
   "metadata": {},
   "outputs": [],
   "source": [
    "MC = sc.read_10x_mtx(MC_path)\n",
    "MC"
   ]
  },
  {
   "cell_type": "code",
   "execution_count": null,
   "id": "09fc27cf-198c-4c8f-9320-37bf83490e8f",
   "metadata": {},
   "outputs": [],
   "source": [
    "MC.obs['doublet'] = MC.obs.index.isin(doublets2.index)"
   ]
  },
  {
   "cell_type": "code",
   "execution_count": null,
   "id": "c99a508e-1f54-46df-a7ee-6411219e2ea9",
   "metadata": {},
   "outputs": [],
   "source": [
    "MC.obs"
   ]
  },
  {
   "cell_type": "code",
   "execution_count": null,
   "id": "3da8f289-cbb5-4a46-a2e4-bdf6377cad6a",
   "metadata": {},
   "outputs": [],
   "source": [
    "MC = MC[~MC.obs.doublet] # the `~` means you keep the ones that are False"
   ]
  },
  {
   "cell_type": "code",
   "execution_count": null,
   "id": "31912cbd-e294-4c74-9902-23813b519aef",
   "metadata": {},
   "outputs": [],
   "source": [
    "MC"
   ]
  },
  {
   "cell_type": "code",
   "execution_count": null,
   "id": "ebb224f7-5c17-421b-8aff-dc0985b7ed31",
   "metadata": {},
   "outputs": [],
   "source": [
    "# add identifier\n",
    "MC.obs['Sample'] = 'male'"
   ]
  },
  {
   "cell_type": "code",
   "execution_count": null,
   "id": "e2b7e433-6336-4201-8fc0-fa17489819f8",
   "metadata": {},
   "outputs": [],
   "source": [
    "MC.write_h5ad(filename = 'raw_male_cyno.h5ad')"
   ]
  },
  {
   "cell_type": "markdown",
   "id": "6c1810ea-ecc2-4d44-9b34-09523b67b70b",
   "metadata": {},
   "source": [
    "### Preprocessing"
   ]
  },
  {
   "cell_type": "markdown",
   "id": "eef3ecf0-bdd4-47d4-bcfa-52e16558169b",
   "metadata": {},
   "source": [
    "#### Female"
   ]
  },
  {
   "cell_type": "code",
   "execution_count": null,
   "id": "242544c6-2378-474c-b80e-5a2c3f0701b7",
   "metadata": {},
   "outputs": [],
   "source": [
    "FC.var"
   ]
  },
  {
   "cell_type": "markdown",
   "id": "b7f6dcda-2f9c-480f-85a5-a531bc16ac73",
   "metadata": {},
   "source": [
    "First thing we need to do is prepend 'MT-' to all the mitochondrial genes"
   ]
  },
  {
   "cell_type": "code",
   "execution_count": null,
   "id": "b737b7d9-4049-4497-8a37-3ef2b4b92d82",
   "metadata": {},
   "outputs": [],
   "source": [
    "# iterate over the index and modify the gene names\n",
    "for gene in FC.var.index:\n",
    "    if gene in mito_genes:\n",
    "        FC.var_names = FC.var_names.to_series().replace(gene, 'MT-' + gene)"
   ]
  },
  {
   "cell_type": "code",
   "execution_count": null,
   "id": "c874b859-dbe0-49bd-a4a7-0680a7ddb3d2",
   "metadata": {},
   "outputs": [],
   "source": [
    "FC.var['gene_ids'] = FC.var.index\n",
    "FC.var"
   ]
  },
  {
   "cell_type": "markdown",
   "id": "a00a9a4d-8316-495e-93a3-66ca2baeae8c",
   "metadata": {},
   "source": [
    "Now we can begin the preprocessing"
   ]
  },
  {
   "cell_type": "code",
   "execution_count": null,
   "id": "e21a6d43-ef52-451c-9759-907958b1699f",
   "metadata": {},
   "outputs": [],
   "source": [
    "# labeling True or False if they start with MT\n",
    "FC.var['mt'] = FC.var.index.str.startswith('MT-')\n",
    "FC.var"
   ]
  },
  {
   "cell_type": "code",
   "execution_count": null,
   "id": "dc88f373-1e20-4c7d-955f-f6d81bbe18cd",
   "metadata": {},
   "outputs": [],
   "source": [
    "# calculate some QC metrix here\n",
    "sc.pp.calculate_qc_metrics(FC, qc_vars = ['mt'], percent_top = None, log1p = False, inplace = True)\n",
    "\n",
    "FC.var"
   ]
  },
  {
   "cell_type": "code",
   "execution_count": null,
   "id": "c04aa427-02e6-4acd-bd26-017b6b200a8e",
   "metadata": {},
   "outputs": [],
   "source": [
    "FC.obs"
   ]
  },
  {
   "cell_type": "code",
   "execution_count": null,
   "id": "4057972c-f864-4dc6-b0b9-54f6ec21cb72",
   "metadata": {},
   "outputs": [],
   "source": [
    "# sort by number of cells where any gene was found\n",
    "FC.var.sort_values('n_cells_by_counts')"
   ]
  },
  {
   "cell_type": "code",
   "execution_count": null,
   "id": "7a2e52b3-f618-472f-a5e1-8ec46e71941a",
   "metadata": {},
   "outputs": [],
   "source": [
    "# filter out genes that were not in at least 3 cells\n",
    "sc.pp.filter_genes(FC, min_cells = 3)"
   ]
  },
  {
   "cell_type": "code",
   "execution_count": null,
   "id": "b949d85b-dac6-4b9e-b368-e9274a284680",
   "metadata": {},
   "outputs": [],
   "source": [
    "FC.var.sort_values('n_cells_by_counts')"
   ]
  },
  {
   "cell_type": "markdown",
   "id": "76a8bd3d-636d-41ef-a09b-731be3f042a8",
   "metadata": {},
   "source": [
    "Let's look at total counts"
   ]
  },
  {
   "cell_type": "code",
   "execution_count": null,
   "id": "ca57b10d-a837-45ec-ae45-a355d2f63335",
   "metadata": {},
   "outputs": [],
   "source": [
    "FC.obs.sort_values('total_counts')"
   ]
  },
  {
   "cell_type": "markdown",
   "id": "348a0f6e-8817-4273-a014-b7085b86809e",
   "metadata": {},
   "source": [
    "Lowest counts are 500 which is good. No need to filter that."
   ]
  },
  {
   "cell_type": "code",
   "execution_count": null,
   "id": "c118efb4-fff5-495b-a960-c6ef3fa24074",
   "metadata": {},
   "outputs": [],
   "source": [
    "# sc.pp.filter_cells(FC, min_genes = ...)"
   ]
  },
  {
   "cell_type": "markdown",
   "id": "20cad6a3-13b0-4d2d-a491-7c5fc7397d0d",
   "metadata": {},
   "source": [
    "Now let's check out the genes per cell"
   ]
  },
  {
   "cell_type": "code",
   "execution_count": null,
   "id": "ea58c6e5-05bd-42b9-b87f-ec0c28989c58",
   "metadata": {},
   "outputs": [],
   "source": [
    "FC.obs.sort_values('n_genes_by_counts')"
   ]
  },
  {
   "cell_type": "markdown",
   "id": "e2813bac-ed0c-45cd-b6a7-5a9268cc2642",
   "metadata": {},
   "source": [
    "Need to filter this to 200"
   ]
  },
  {
   "cell_type": "code",
   "execution_count": null,
   "id": "f1dede15-7671-43eb-ba36-b0960b1205d5",
   "metadata": {},
   "outputs": [],
   "source": [
    "sc.pp.filter_cells(FC, min_genes = 200)"
   ]
  },
  {
   "cell_type": "code",
   "execution_count": null,
   "id": "83d9ee02-ae67-4dab-883e-599912188df7",
   "metadata": {},
   "outputs": [],
   "source": [
    "# just checking\n",
    "FC.obs.sort_values('n_genes_by_counts')"
   ]
  },
  {
   "cell_type": "markdown",
   "id": "fd86f43f-adbe-4d5d-9692-a5950d626c3c",
   "metadata": {},
   "source": [
    "Let's go ahead and plot these QC metrics."
   ]
  },
  {
   "cell_type": "code",
   "execution_count": null,
   "id": "adbe829e-6f67-4efd-b900-0459b29e1b02",
   "metadata": {},
   "outputs": [],
   "source": [
    "sc.pl.violin(FC, ['n_genes_by_counts', 'total_counts', 'pct_counts_mt'],\n",
    "            jitter = 0.4, multi_panel = True)"
   ]
  },
  {
   "cell_type": "markdown",
   "id": "5344ccac-14e3-41ae-8faf-dcaec39e64a8",
   "metadata": {},
   "source": [
    "Based on these QC plots, we can filter our data and remove dying cells, outliers, etc.\n",
    "\n",
    "We can be more objective in filtering by using numpy. We can filter with quantiles rather than picking arbirarily."
   ]
  },
  {
   "cell_type": "code",
   "execution_count": null,
   "id": "59c9931a-5f2b-4e5e-b1f8-95e198f26fe6",
   "metadata": {},
   "outputs": [],
   "source": [
    "upper_lim = np.quantile(FC.obs.n_genes_by_counts, 0.98)\n",
    "\n",
    "# if you wanted to pick, we could do this: upper_lim = 3000\n",
    "upper_lim"
   ]
  },
  {
   "cell_type": "code",
   "execution_count": null,
   "id": "11428220-d475-45d3-ba74-4d30bea182c6",
   "metadata": {},
   "outputs": [],
   "source": [
    "# filtering out all cells below `upper_lim`\n",
    "\n",
    "FC = FC[FC.obs.n_genes_by_counts < upper_lim]\n",
    "FC.obs"
   ]
  },
  {
   "cell_type": "code",
   "execution_count": null,
   "id": "ec5bfee4-edcc-47ea-8bee-a07e84c797fd",
   "metadata": {},
   "outputs": [],
   "source": [
    "# filter mito\n",
    "FC = FC[FC.obs.pct_counts_mt < 10]\n",
    "FC.obs"
   ]
  },
  {
   "cell_type": "markdown",
   "id": "179663bf-d582-428e-8d9c-d13c5cb9ff1f",
   "metadata": {},
   "source": [
    "#### Male"
   ]
  },
  {
   "cell_type": "code",
   "execution_count": null,
   "id": "bffd6af3-3587-4d31-8b7a-c17a25cb18d2",
   "metadata": {},
   "outputs": [],
   "source": [
    "MC.var"
   ]
  },
  {
   "cell_type": "code",
   "execution_count": null,
   "id": "00d09c26-d7c6-45a9-8613-7bc782bf549c",
   "metadata": {},
   "outputs": [],
   "source": [
    "# iterate over the index and modify the gene names\n",
    "for gene in MC.var.index:\n",
    "    if gene in mito_genes:\n",
    "        MC.var_names = MC.var_names.to_series().replace(gene, 'MT-' + gene)"
   ]
  },
  {
   "cell_type": "code",
   "execution_count": null,
   "id": "b1667ac6-b990-48d5-814f-969ccbffa781",
   "metadata": {},
   "outputs": [],
   "source": [
    "# reseeting gene_ids column to index values\n",
    "\n",
    "MC.var['gene_ids'] = MC.var.index\n",
    "MC.var"
   ]
  },
  {
   "cell_type": "code",
   "execution_count": null,
   "id": "f2cdc167-fdf6-47f0-9f61-ed53a41f0a60",
   "metadata": {},
   "outputs": [],
   "source": [
    "# labeling True or False if they start with MT\n",
    "MC.var['mt'] = MC.var.index.str.startswith('MT-')\n",
    "MC.var"
   ]
  },
  {
   "cell_type": "code",
   "execution_count": null,
   "id": "8530761d-9d0c-4001-ae72-083503e97c8c",
   "metadata": {},
   "outputs": [],
   "source": [
    "# calculate some QC metrix here\n",
    "sc.pp.calculate_qc_metrics(MC, qc_vars = ['mt'], percent_top = None, log1p = False, inplace = True)\n",
    "\n",
    "MC.var"
   ]
  },
  {
   "cell_type": "code",
   "execution_count": null,
   "id": "692f01ff-1520-4ee6-9a35-913c7e4fbada",
   "metadata": {},
   "outputs": [],
   "source": [
    "FC.obs"
   ]
  },
  {
   "cell_type": "code",
   "execution_count": null,
   "id": "fd7e5861-e291-4bef-8fad-6b56da1980ef",
   "metadata": {},
   "outputs": [],
   "source": [
    "# sort by number of cells where any gene was found\n",
    "MC.var.sort_values('n_cells_by_counts')"
   ]
  },
  {
   "cell_type": "code",
   "execution_count": null,
   "id": "0821bda3-3446-40b4-8d52-77c0bb58b9f6",
   "metadata": {},
   "outputs": [],
   "source": [
    "# filter out genes that were not in at least 3 cells\n",
    "sc.pp.filter_genes(MC, min_cells = 3)"
   ]
  },
  {
   "cell_type": "code",
   "execution_count": null,
   "id": "dd56cc95-2c78-45a9-a394-1017c385eb55",
   "metadata": {},
   "outputs": [],
   "source": [
    "MC.var.sort_values('n_cells_by_counts')"
   ]
  },
  {
   "cell_type": "code",
   "execution_count": null,
   "id": "602be0db-1477-4903-a877-79256ddf131b",
   "metadata": {},
   "outputs": [],
   "source": [
    "MC.obs.sort_values('total_counts')"
   ]
  },
  {
   "cell_type": "markdown",
   "id": "bd31e00d-7f26-4258-b09b-d421fbe58021",
   "metadata": {},
   "source": [
    "Again, not needed as lowest is 500"
   ]
  },
  {
   "cell_type": "code",
   "execution_count": null,
   "id": "6fa20f1a-6441-4db0-9b42-52b2f2c87b79",
   "metadata": {},
   "outputs": [],
   "source": [
    "sc.pp.filter_cells(MC, min_genes = 200)"
   ]
  },
  {
   "cell_type": "code",
   "execution_count": null,
   "id": "ed2025a7-b98a-4e92-9e5f-73f1677c015e",
   "metadata": {},
   "outputs": [],
   "source": [
    "# just checking\n",
    "MC.obs.sort_values('n_genes_by_counts')"
   ]
  },
  {
   "cell_type": "code",
   "execution_count": null,
   "id": "6209afb8-bf64-4412-a03f-ef2e561f7201",
   "metadata": {},
   "outputs": [],
   "source": [
    "sc.pl.violin(MC, ['n_genes_by_counts', 'total_counts', 'pct_counts_mt'],\n",
    "            jitter = 0.4, multi_panel = True)"
   ]
  },
  {
   "cell_type": "code",
   "execution_count": null,
   "id": "7868bbb4-7e33-4906-942f-df74f818617f",
   "metadata": {},
   "outputs": [],
   "source": [
    "upper_lim = np.quantile(MC.obs.n_genes_by_counts, 0.98)\n",
    "\n",
    "# if you wanted to pick, we could do this: upper_lim = 3000\\\n",
    "upper_lim"
   ]
  },
  {
   "cell_type": "code",
   "execution_count": null,
   "id": "1410e6b6-9118-4184-9d43-9aef61384349",
   "metadata": {},
   "outputs": [],
   "source": [
    "# filtering out all cells below `upper_lim`\n",
    "MC = MC[MC.obs.n_genes_by_counts < upper_lim]\n",
    "MC.obs"
   ]
  },
  {
   "cell_type": "code",
   "execution_count": null,
   "id": "0fd40b44-5c2a-45bb-b9d3-0e63882aaacb",
   "metadata": {},
   "outputs": [],
   "source": [
    "# filter mito\n",
    "MC = MC[MC.obs.pct_counts_mt < 10]\n",
    "MC.obs"
   ]
  },
  {
   "cell_type": "markdown",
   "id": "3a55bdde-dfe6-4f18-a9ac-81416cc8b123",
   "metadata": {},
   "source": [
    "### Normalization"
   ]
  },
  {
   "cell_type": "markdown",
   "id": "c581dd9c-ce3a-402f-a370-76f577c3bbd5",
   "metadata": {},
   "source": [
    "**Very important step!** In scRNA-seq there a lot of variation exists between cells, even between cells of the same type (mainly due to sequencing biases, etc). Normalization allows us to compare genes. We will normalize the counts in each cell so that their total counts add up to the same value."
   ]
  },
  {
   "cell_type": "markdown",
   "id": "7797c1bf-0c41-4397-8e6a-542ba08851c2",
   "metadata": {},
   "source": [
    "We can quickly show why we need to do normalization if we sum the counts for each respective cell"
   ]
  },
  {
   "cell_type": "code",
   "execution_count": null,
   "id": "8051be37-c5cb-4fc5-9ec1-4a8a372d4eaf",
   "metadata": {},
   "outputs": [],
   "source": [
    "FC.X.sum(axis = 1)"
   ]
  },
  {
   "cell_type": "markdown",
   "id": "a9592f29-b4da-473b-a81c-624727ae1440",
   "metadata": {},
   "source": [
    "#### Female"
   ]
  },
  {
   "cell_type": "code",
   "execution_count": null,
   "id": "4b622fa4-52d5-454b-be11-c9c40da699ca",
   "metadata": {},
   "outputs": [],
   "source": [
    "sc.pp.normalize_total(FC, target_sum = 1e4) # normalize every cell to 10,000 UMI"
   ]
  },
  {
   "cell_type": "code",
   "execution_count": null,
   "id": "6036127d-6b6f-451c-b78f-6d8b5e8b37f1",
   "metadata": {},
   "outputs": [],
   "source": [
    "FC.X.sum(axis = 1)"
   ]
  },
  {
   "cell_type": "markdown",
   "id": "1fd84c1e-7c5b-4aa4-b5b6-d8666cda5734",
   "metadata": {},
   "source": [
    "Now we see the sum for each cell all adds up to 10,000!"
   ]
  },
  {
   "cell_type": "markdown",
   "id": "635eddaf-fff2-4db8-8294-b2782aa3d17c",
   "metadata": {},
   "source": [
    "Changing them to log counts"
   ]
  },
  {
   "cell_type": "code",
   "execution_count": null,
   "id": "0daa357e-48e7-4e4d-9b66-e6c575589718",
   "metadata": {},
   "outputs": [],
   "source": [
    "sc.pp.log1p(FC) # change to log counts"
   ]
  },
  {
   "cell_type": "code",
   "execution_count": null,
   "id": "a11634f8-3f6c-4037-a606-0cc9262ec6b8",
   "metadata": {},
   "outputs": [],
   "source": [
    "FC.X.sum(axis = 1)"
   ]
  },
  {
   "cell_type": "markdown",
   "id": "ea561922-6f65-42cf-8df4-221f966d86fd",
   "metadata": {},
   "source": [
    "After log-transformation they are not the same number; however this is because log-transforming something is not a linear operation. Anyway, the numbers are much more comparable now compared to the non-normalized data."
   ]
  },
  {
   "cell_type": "markdown",
   "id": "9ce9fd07-7af3-432a-866d-543275a402ba",
   "metadata": {},
   "source": [
    "**It is very important to save (freeze) the data as it is now before we do any further processing.**"
   ]
  },
  {
   "cell_type": "markdown",
   "id": "ffd9e541-7c0b-47fa-9be4-66c0e474abbd",
   "metadata": {},
   "source": [
    "Adding identifier"
   ]
  },
  {
   "cell_type": "code",
   "execution_count": null,
   "id": "ece1dcf1-0684-40e0-8765-139b4f55fa1b",
   "metadata": {},
   "outputs": [],
   "source": [
    "FC.obs['Sample'] = 'female'"
   ]
  },
  {
   "cell_type": "code",
   "execution_count": null,
   "id": "cb8e802b-a283-4a4a-b55a-46b631cc2b32",
   "metadata": {},
   "outputs": [],
   "source": [
    "FC.raw = FC # save the raw data"
   ]
  },
  {
   "cell_type": "markdown",
   "id": "b0dc22c5-584c-4b37-a6cf-11e3aeeba8b8",
   "metadata": {},
   "source": [
    "This saves it into the `raw` slot in the AnnData object"
   ]
  },
  {
   "cell_type": "markdown",
   "id": "541587bb-b11d-4464-b722-27fc8e2fb6c3",
   "metadata": {},
   "source": [
    "#### Male"
   ]
  },
  {
   "cell_type": "code",
   "execution_count": null,
   "id": "482c928c-91e2-4536-afd5-650ed913850e",
   "metadata": {},
   "outputs": [],
   "source": [
    "sc.pp.normalize_total(MC, target_sum = 1e4) # normalize every cell to 10,000 UMI"
   ]
  },
  {
   "cell_type": "code",
   "execution_count": null,
   "id": "fd002ca6-f997-433b-9658-67c29df22e7f",
   "metadata": {},
   "outputs": [],
   "source": [
    "MC.X.sum(axis = 1)"
   ]
  },
  {
   "cell_type": "code",
   "execution_count": null,
   "id": "0a492329-2502-407a-a26c-285ab291ed05",
   "metadata": {},
   "outputs": [],
   "source": [
    "sc.pp.log1p(MC)\n",
    "\n",
    "MC.X.sum(axis = 1)"
   ]
  },
  {
   "cell_type": "markdown",
   "id": "9df22a8a-d2bd-42de-b878-1d2279aedbe7",
   "metadata": {},
   "source": [
    "Adding identifier"
   ]
  },
  {
   "cell_type": "code",
   "execution_count": null,
   "id": "eeda7d1e-bf33-4a4c-97d9-828288c3fda5",
   "metadata": {},
   "outputs": [],
   "source": [
    "MC.obs['Sample'] = 'male'"
   ]
  },
  {
   "cell_type": "code",
   "execution_count": null,
   "id": "63143f35-8675-49ef-9a33-8acdd3d90a40",
   "metadata": {},
   "outputs": [],
   "source": [
    "MC.raw = MC"
   ]
  },
  {
   "cell_type": "markdown",
   "id": "c0622b7f-5e4a-481a-a947-fd78039477a9",
   "metadata": {},
   "source": [
    "**Saving these AnnData objects**"
   ]
  },
  {
   "cell_type": "code",
   "execution_count": null,
   "id": "5ba0d131-e6f1-4ddc-8adf-81dea28a8ef3",
   "metadata": {},
   "outputs": [],
   "source": [
    "FC.write_h5ad(filename = 'female_cyno.h5ad')\n",
    "MC.write_h5ad(filename = 'male_cyno.h5ad')"
   ]
  },
  {
   "cell_type": "markdown",
   "id": "d7296ed0-3628-42cf-ad5e-661f830cf088",
   "metadata": {
    "tags": []
   },
   "source": [
    "## Human data"
   ]
  },
  {
   "cell_type": "markdown",
   "id": "a9e203f0-cec8-408d-b4d2-0a887bf02028",
   "metadata": {},
   "source": [
    "We will essentially repeat the process we did above for the cyno data but for the human data, with some differences, of course."
   ]
  },
  {
   "cell_type": "markdown",
   "id": "6af54ca3-c40f-459e-987a-63318c3221cc",
   "metadata": {},
   "source": [
    "I will make a preprocessing function up here that is slightly different than the one we have below. This one combines the doublet detection and then will run through the same preprocessing analysis as above."
   ]
  },
  {
   "cell_type": "markdown",
   "id": "0f73c774-3671-416e-8a56-c15ca8310aef",
   "metadata": {},
   "source": [
    "#### Preprocessing Functions"
   ]
  },
  {
   "cell_type": "code",
   "execution_count": null,
   "id": "f6310ebd-a4b1-4b3c-9e0a-bef8a19dda9e",
   "metadata": {},
   "outputs": [],
   "source": [
    "def doublet(file):\n",
    "    adata = sc.read_h5ad(file)\n",
    "    sc.pp.filter_genes(adata, min_cells = 10)\n",
    "    sc.pp.highly_variable_genes(adata, n_top_genes = 2000, subset = True, flavor = 'seurat_v3')\n",
    "    scvi.model.SCVI.setup_anndata(adata)\n",
    "    vae = scvi.model.SCVI(adata)\n",
    "    vae.train()\n",
    "    solo = scvi.external.SOLO.from_scvi_model(vae)\n",
    "    solo.train(batch_size = 129) # first sample is 128, so it will be '1' in the model. Just changed this so it'd run\n",
    "    df = solo.predict()\n",
    "    df['prediction'] = solo.predict(soft = False)\n",
    "    # df.index = df.index.map(lambda x: x[:-2])\n",
    "    df['dif'] = df.doublet - df.singlet\n",
    "    doublets = df[(df.prediction == 'doublet') & (df.dif > 1)]\n",
    "    # re-read in the data and then filter out doublets\n",
    "    adata = sc.read_h5ad(file)\n",
    "    adata.obs['Sample'] = file.split('_')[9] + '_' + file.split('_')[5]\n",
    "    adata.obs['doublet'] = adata.obs.index.isin(doublets.index)\n",
    "    # remove all doublets\n",
    "    # remember that the `~` mean select all that have the Boolean value of False\n",
    "    adata = adata[~adata.obs.doublet]\n",
    "    \n",
    "    return adata"
   ]
  },
  {
   "cell_type": "code",
   "execution_count": null,
   "id": "3a8e828a-3553-4a97-afdf-5db39f42123e",
   "metadata": {},
   "outputs": [],
   "source": [
    "def pp(adata):\n",
    "\n",
    "    sc.pp.filter_cells(adata, min_genes=200) #get rid of cells with fewer than 200 genes\n",
    "    #sc.pp.filter_genes(adata, min_cells=3) #get rid of genes that are found in fewer than 3 cells\n",
    "    adata.var['mt'] = adata.var_names.isin(mito_genes)  # annotate the group of mitochondrial genes as 'mt'\n",
    "    \n",
    "    sc.pp.calculate_qc_metrics(adata, qc_vars=['mt'], percent_top=None, log1p=False, inplace=True)\n",
    "    upper_lim = np.quantile(adata.obs.n_genes_by_counts.values, .98)\n",
    "    adata = adata[adata.obs.n_genes_by_counts < upper_lim]\n",
    "    adata = adata[adata.obs.pct_counts_mt < 10]\n",
    "\n",
    "    return adata"
   ]
  },
  {
   "cell_type": "code",
   "execution_count": null,
   "id": "33c561ae-1173-4a63-839f-bd7e21d59b54",
   "metadata": {},
   "outputs": [],
   "source": [
    "def pp_for_doublet(adata):\n",
    "\n",
    "    # now the classic preprocessing\n",
    "    sc.pp.filter_cells(adata, min_genes = 200) # gets rid of cells with fewer than 200 genes\n",
    "    #sc.pp.filter_genes(adata, min_cells = 3) # usually have this here, but will be doing it later\n",
    "    adata.var['mt'] = adata.var_names.isin(ENS_mt) # annotate mitochondrial genes as 'mt'\n",
    "    sc.pp.calculate_qc_metrics(adata, qc_vars = ['mt'], percent_top = None, log1p = False, inplace = True)\n",
    "    # use numpy for quantiles\n",
    "    upper_lim = np.quantile(adata.obs.n_genes_by_counts.values, 0.98)\n",
    "    adata = adata[adata.obs.n_genes_by_counts.values < upper_lim]\n",
    "    adata = adata[adata.obs.pct_counts_mt < 10]\n",
    "    \n",
    "    return adata"
   ]
  },
  {
   "cell_type": "markdown",
   "id": "580fe0e6-aa4e-40a2-bd4f-c5c85b976da2",
   "metadata": {},
   "source": [
    "Let's get all the `.h5ad` files that we need"
   ]
  },
  {
   "cell_type": "markdown",
   "id": "6a03d3d2-6a6b-4f01-8149-1a3f0c91d5d6",
   "metadata": {},
   "source": [
    "#### Use Regular Expressions To Get Human Files"
   ]
  },
  {
   "cell_type": "code",
   "execution_count": null,
   "id": "d824c945-68df-4610-9c71-2f00ad8eecff",
   "metadata": {},
   "outputs": [],
   "source": [
    "# path to directory\n",
    "directory = '/home/carvadan/human_lung_analysis/human_normal_lung_GSE136831_scRNA-seq_h5ad_result/'\n",
    "\n",
    "# regular expression patter\n",
    "pattern = r'.*\\.h5ad$'\n",
    "\n",
    "# use glob with regex pattern\n",
    "# use of the glob module to search for files in the specified diretory path\n",
    "# the `'*'` wildcard is used to match any file name in the directory\n",
    "# file for file in glob.glob(directory + '*') is a list comprehension that iterates over the files obtained from glob.glob(directory + '*')\n",
    "# and assigns each file path to the variable `file` creating a new list containing the file paths\n",
    "\n",
    "# `if re.match(pattern, file)` is a conditional. So only those files that match the pattern are added to the list mentioned above.\n",
    "file_list = [file for file in glob.glob(directory + '*') if re.match(pattern, file)]\n",
    "\n",
    "# for file in file_list:\n",
    "#     print(file)"
   ]
  },
  {
   "cell_type": "code",
   "execution_count": null,
   "id": "9ebda087-77b1-4a1c-b805-17fceea6771c",
   "metadata": {},
   "outputs": [],
   "source": [
    "file_list"
   ]
  },
  {
   "cell_type": "code",
   "execution_count": null,
   "id": "b456cc31-a587-4ff3-9bab-c546b855748d",
   "metadata": {
    "jupyter": {
     "source_hidden": true
    },
    "tags": []
   },
   "outputs": [],
   "source": [
    "# gene_symbols = []\n",
    "\n",
    "# for i in adata.var_names:\n",
    "#     if i in gene_mapping4:\n",
    "#         gene_symbols.append(gene_mapping4[i])\n",
    "#     else:\n",
    "#         gene_symbols.append(i)\n",
    "\n",
    "\n",
    "# adata.var['gene_symbols'] = gene_symbols\n",
    "# adata.var['ensemble'] = adata.var_names\n",
    "# adata.var_names = adata.var['gene_symbols']\n",
    "    \n",
    "# adata.var_names"
   ]
  },
  {
   "cell_type": "markdown",
   "id": "39045bf3-af73-4840-b72e-4efd935b92b1",
   "metadata": {},
   "source": [
    "Now let's try running for all files."
   ]
  },
  {
   "cell_type": "code",
   "execution_count": null,
   "id": "08c0d425-7e8d-4544-9a3a-10e7b3703fff",
   "metadata": {},
   "outputs": [],
   "source": [
    "out = []\n",
    "for i, file in enumerate(file_list):\n",
    "    print(i)\n",
    "    out.append(doublet(file))"
   ]
  },
  {
   "cell_type": "markdown",
   "id": "f2c26666-2ea5-41b5-8d92-bd3c981a2169",
   "metadata": {},
   "source": [
    "Now that everything has run and is already a list, let's make sure that it worked correctly."
   ]
  },
  {
   "cell_type": "code",
   "execution_count": null,
   "id": "e4872f3a-5c05-48eb-8a2c-bff11a72c8e9",
   "metadata": {},
   "outputs": [],
   "source": [
    "out"
   ]
  },
  {
   "cell_type": "code",
   "execution_count": null,
   "id": "56dbe1b4-b2b8-41df-ba93-d471341e3652",
   "metadata": {},
   "outputs": [],
   "source": [
    "for i, adata in enumerate(out):\n",
    "    print(i)\n",
    "    pp_for_doublet(adata)\n",
    "    print('\\n')"
   ]
  },
  {
   "cell_type": "markdown",
   "id": "9402094c-99d3-4da9-a49e-f2c173b8647f",
   "metadata": {},
   "source": [
    "Since they're all AnnData objects, we can now concatenate them into one object."
   ]
  },
  {
   "cell_type": "code",
   "execution_count": null,
   "id": "b82f76be-9bc1-4672-a56e-1018121ffc26",
   "metadata": {},
   "outputs": [],
   "source": [
    "human = ad.concat(out)\n",
    "human.obs_names_make_unique"
   ]
  },
  {
   "cell_type": "markdown",
   "id": "ab37d76e-7d43-40b8-9dcf-ece1df5390ac",
   "metadata": {},
   "source": [
    "Save the data as `.h5ad`"
   ]
  },
  {
   "cell_type": "code",
   "execution_count": null,
   "id": "571de6e4-997c-4e91-97d8-273348eb6299",
   "metadata": {},
   "outputs": [],
   "source": [
    "human.write_h5ad(filename = 'human_combined.h5ad')"
   ]
  },
  {
   "cell_type": "markdown",
   "id": "505f73eb-7855-4040-ac04-a570b7df9e68",
   "metadata": {},
   "source": [
    "## Concatenate human and cyno together"
   ]
  },
  {
   "cell_type": "markdown",
   "id": "eaf6926d-3ac3-4b21-be65-fe07dc7a0cc9",
   "metadata": {},
   "source": [
    "Since we now have the concatenated cynomolgus monkey and human AnnData objects, we need to filter them. This will be performed by making a column in the cyno object called `gene_symbols` followed by `merged = cyno.concatenate(human)`. This will automatically subset the object of the union of genes in both objects via an inner join. Then we should be free to integrate once this is completed."
   ]
  },
  {
   "cell_type": "markdown",
   "id": "f0bcbe22-26b4-4217-b151-168d2a1d2e4e",
   "metadata": {},
   "source": [
    "Preprocess the cyno data since we onlt did doublet detection and removal"
   ]
  },
  {
   "cell_type": "code",
   "execution_count": null,
   "id": "8ad09661-d2fc-461b-a4a1-cf2bd34de01b",
   "metadata": {},
   "outputs": [],
   "source": [
    "cyno = sc.read_h5ad('cyno_combined.h5ad')\n",
    "cyno.obs_names_make_unique"
   ]
  },
  {
   "cell_type": "code",
   "execution_count": null,
   "id": "75f5abe4-b54a-459c-ba71-c4ef20a5ce00",
   "metadata": {},
   "outputs": [],
   "source": [
    "human = sc.read_h5ad('human_combined.h5ad')\n",
    "human.obs_names_make_unique"
   ]
  },
  {
   "cell_type": "markdown",
   "id": "18d56597-6d16-4cd7-bda5-db44bb301328",
   "metadata": {},
   "source": [
    "### Filter for Orthologoues Only"
   ]
  },
  {
   "cell_type": "markdown",
   "id": "68f0315a-56fa-48bf-9f8f-3f5eb084b200",
   "metadata": {},
   "source": [
    "#### Create `gene_symbol` column for cyno"
   ]
  },
  {
   "cell_type": "code",
   "execution_count": null,
   "id": "53d5405a-76c3-4622-bf0c-3d028357e9ae",
   "metadata": {},
   "outputs": [],
   "source": [
    "homology_indicator_c = cyno.var_names.isin(gene_mapping.values())"
   ]
  },
  {
   "cell_type": "code",
   "execution_count": null,
   "id": "4954dc61-eb86-49b5-95b0-c52fb5825e65",
   "metadata": {},
   "outputs": [],
   "source": [
    "homology_indicator_c"
   ]
  },
  {
   "cell_type": "code",
   "execution_count": null,
   "id": "e57e0a87-aac3-4301-94e7-0db958ee9fd8",
   "metadata": {},
   "outputs": [],
   "source": [
    "cyno = cyno[:, homology_indicator_c]"
   ]
  },
  {
   "cell_type": "code",
   "execution_count": null,
   "id": "1d368fda-f64d-4741-91a0-0af3b670ca53",
   "metadata": {},
   "outputs": [],
   "source": [
    "cyno.var"
   ]
  },
  {
   "cell_type": "markdown",
   "id": "ab86fff8-7d65-4edd-9044-ffeb706aa7d9",
   "metadata": {},
   "source": [
    "Subset to only those in `homology_indicator_c`"
   ]
  },
  {
   "cell_type": "code",
   "execution_count": null,
   "id": "80f20f47-17f8-41ea-9a29-116fc1ce15c1",
   "metadata": {},
   "outputs": [],
   "source": [
    "# add hgnc, index there\n",
    "hgnc = []\n",
    "for i in cyno.var_names:\n",
    "    if i in gene_mapper:\n",
    "        hgnc.append(gene_mapper[i])\n",
    "cyno.var['gene'] = hgnc"
   ]
  },
  {
   "cell_type": "code",
   "execution_count": null,
   "id": "1af5ce10-3ce4-40b2-a2b0-267ad5b38358",
   "metadata": {},
   "outputs": [],
   "source": [
    "cyno.var"
   ]
  },
  {
   "cell_type": "code",
   "execution_count": null,
   "id": "b49e0dc8-5813-408b-b076-3f440413ca48",
   "metadata": {},
   "outputs": [],
   "source": [
    "cyno.var['loc'] = cyno.var_names\n",
    "cyno.var_names = cyno.var['gene']"
   ]
  },
  {
   "cell_type": "code",
   "execution_count": null,
   "id": "460ba8da-887e-40d9-97ea-8ebcc24285f8",
   "metadata": {},
   "outputs": [],
   "source": [
    "cyno.var"
   ]
  },
  {
   "cell_type": "code",
   "execution_count": null,
   "id": "63a2812a-7e75-4056-b180-284b25382206",
   "metadata": {},
   "outputs": [],
   "source": [
    "cyno.write(filename = 'cyno_combined.h5ad')"
   ]
  },
  {
   "cell_type": "markdown",
   "id": "616b4cd3-6339-4256-9456-9f06995e32d6",
   "metadata": {},
   "source": [
    "#### Create `gene_symbol` column for human"
   ]
  },
  {
   "cell_type": "code",
   "execution_count": null,
   "id": "983171e5-0d32-4e31-92ce-94d61f8837de",
   "metadata": {},
   "outputs": [],
   "source": [
    "human"
   ]
  },
  {
   "cell_type": "code",
   "execution_count": null,
   "id": "f0f3e53a-8e15-4e80-ac6c-be8942ee640b",
   "metadata": {},
   "outputs": [],
   "source": [
    "homology_indicator_h = human.var_names.isin(gene_mapping.keys())"
   ]
  },
  {
   "cell_type": "code",
   "execution_count": null,
   "id": "a2870c0c-399a-4c80-b512-c56b691355b6",
   "metadata": {},
   "outputs": [],
   "source": [
    "len(homology_indicator_h)"
   ]
  },
  {
   "cell_type": "markdown",
   "id": "ea56ef64-157f-43b4-9494-3d1697690db0",
   "metadata": {},
   "source": [
    "Subset to only those in `homology_indicator_h`"
   ]
  },
  {
   "cell_type": "code",
   "execution_count": null,
   "id": "9dc3b3dd-9fba-4360-b2d7-82668141f409",
   "metadata": {},
   "outputs": [],
   "source": [
    "human = human[:, homology_indicator_h]"
   ]
  },
  {
   "cell_type": "code",
   "execution_count": null,
   "id": "c0ec02d9-f38c-4a8b-aec2-50d2eef83e52",
   "metadata": {},
   "outputs": [],
   "source": [
    "human.var"
   ]
  },
  {
   "cell_type": "markdown",
   "id": "ffdeb5a1-b75e-445c-8f3a-dda7dc06e0c6",
   "metadata": {},
   "source": [
    "#### Indexing human to HGNC"
   ]
  },
  {
   "cell_type": "code",
   "execution_count": null,
   "id": "9786201b-7562-4977-a853-eb0acb29a0b7",
   "metadata": {},
   "outputs": [],
   "source": [
    "HGNC = []\n",
    "for i in human.var_names:\n",
    "    if i in gene_mapping2:\n",
    "        HGNC.append(gene_mapping2[i])\n",
    "human.var['gene'] = HGNC"
   ]
  },
  {
   "cell_type": "code",
   "execution_count": null,
   "id": "f5247fb4-658b-4755-838d-135bc7f6a4f0",
   "metadata": {},
   "outputs": [],
   "source": [
    "human.var['ensembl'] = human.var_names\n",
    "human.var_names = human.var['gene']"
   ]
  },
  {
   "cell_type": "markdown",
   "id": "1d12ca8c-7daa-4913-b675-66108625efac",
   "metadata": {},
   "source": [
    "#### Making values unique"
   ]
  },
  {
   "cell_type": "code",
   "execution_count": null,
   "id": "41b5ee61-6876-4d79-9dc5-d814ea39442b",
   "metadata": {},
   "outputs": [],
   "source": [
    "len(new_ind)"
   ]
  },
  {
   "cell_type": "code",
   "execution_count": null,
   "id": "988f960a-1ca8-49a6-9a08-4696344b15cb",
   "metadata": {},
   "outputs": [],
   "source": [
    "ints = [*range(61516)]\n",
    "# range1 = [str(x) for x in ints]\n",
    "\n",
    "th_obs_index = list(th.obs_names)\n",
    "\n",
    "dictionary = dict(zip(ints, th_obs_index))\n",
    "\n",
    "\n",
    "new_ind = []\n",
    "for i in dictionary:\n",
    "    new_ind.append(dictionary[i] + '-' + str(i))\n",
    "# new_ind"
   ]
  },
  {
   "cell_type": "code",
   "execution_count": null,
   "id": "88840772-163d-4212-8c64-f7947dc629d6",
   "metadata": {},
   "outputs": [],
   "source": [
    "th.obs['index'] = new_ind\n",
    "th.obs_names = th.obs['index']"
   ]
  },
  {
   "cell_type": "code",
   "execution_count": null,
   "id": "45579b83-5fa3-4e66-8154-941b448d04c0",
   "metadata": {},
   "outputs": [],
   "source": [
    "len(th.var_names)"
   ]
  },
  {
   "cell_type": "code",
   "execution_count": null,
   "id": "ab8f20a0-572c-4545-80c6-107efee6cc63",
   "metadata": {},
   "outputs": [],
   "source": [
    "ints = [*range(16732)]\n",
    "# range1 = [str(x) for x in ints]\n",
    "\n",
    "th_obs_index = list(th.var_names)\n",
    "\n",
    "dictionary = dict(zip(ints, th_obs_index))\n",
    "\n",
    "\n",
    "new_ind = []\n",
    "for i in dictionary:\n",
    "    new_ind.append(str(dictionary[i]) + '-' + str(i))"
   ]
  },
  {
   "cell_type": "code",
   "execution_count": null,
   "id": "934a9d7a-ba86-4d4c-bc8e-afa28c2d76aa",
   "metadata": {},
   "outputs": [],
   "source": [
    "th.var['index'] = new_ind\n",
    "th.var_names = th.var['index']"
   ]
  },
  {
   "cell_type": "code",
   "execution_count": null,
   "id": "a48e6e8d-4b04-41f2-892e-b9826c04cabe",
   "metadata": {},
   "outputs": [],
   "source": [
    "th"
   ]
  },
  {
   "cell_type": "code",
   "execution_count": null,
   "id": "8abc045e-db58-4e38-97b0-16640925d86d",
   "metadata": {},
   "outputs": [],
   "source": [
    "# gene = []\n",
    "# for i in th.var_names:\n",
    "#     if i in gene_mapping2:\n",
    "#         gene.append(gene_mapping[i])\n",
    "th.var['gene'] = gene\n",
    "th.var['ensembl'] = th.var_names\n",
    "th.var_names = th.var['gene']"
   ]
  },
  {
   "cell_type": "code",
   "execution_count": null,
   "id": "3e0e5c1d-dd22-44d6-b01e-3ebd6bf6989d",
   "metadata": {},
   "outputs": [],
   "source": [
    "print(len(gene), len(th.var_names))"
   ]
  },
  {
   "cell_type": "markdown",
   "id": "dc3b2fc8-13a7-4b1d-8c3a-3241be6417d1",
   "metadata": {},
   "source": [
    "#### Concatenating"
   ]
  },
  {
   "cell_type": "code",
   "execution_count": null,
   "id": "6342f9d3-f871-4e48-97f4-e257a6a5077f",
   "metadata": {},
   "outputs": [],
   "source": [
    "human = sc.read_h5ad(filename = 'combined_human.h5ad')\n",
    "cyno = sc.read_h5ad(filename = 'cyno_combined.h5ad')"
   ]
  },
  {
   "cell_type": "code",
   "execution_count": null,
   "id": "adc31e66-c194-48a3-bc49-3f747c61f76a",
   "metadata": {},
   "outputs": [],
   "source": [
    "human.var_names_make_unique\n",
    "cyno.var_names_make_unique"
   ]
  },
  {
   "cell_type": "code",
   "execution_count": null,
   "id": "3f113b04-27dd-4af1-a454-6df8904ccdb5",
   "metadata": {},
   "outputs": [],
   "source": [
    "cyno"
   ]
  },
  {
   "cell_type": "code",
   "execution_count": null,
   "id": "55559809-ea53-4c15-b7a0-ee4177778959",
   "metadata": {},
   "outputs": [],
   "source": [
    "merged = sc.concat([human, cyno], axis = 1, join = 'outer', label = ['human', 'cyno'])"
   ]
  },
  {
   "cell_type": "code",
   "execution_count": null,
   "id": "cd28be2a-b92c-4e50-9883-fe86e4535261",
   "metadata": {},
   "outputs": [],
   "source": [
    "merged"
   ]
  },
  {
   "cell_type": "code",
   "execution_count": null,
   "id": "80119868-402a-4e3d-bb16-c537a336b3f0",
   "metadata": {},
   "outputs": [],
   "source": [
    "merged.var"
   ]
  },
  {
   "cell_type": "markdown",
   "id": "bdc21576-cf39-45f3-9cfc-df1d3badaf37",
   "metadata": {},
   "source": [
    "Save the merged object"
   ]
  },
  {
   "cell_type": "code",
   "execution_count": null,
   "id": "7f447ba0-82b3-48ec-bbdd-6a14cbde7471",
   "metadata": {},
   "outputs": [],
   "source": [
    "merged.write(filename = 'human_cyno_merged.h5ad')"
   ]
  },
  {
   "cell_type": "markdown",
   "id": "e06af283-f2aa-43a1-a2d2-887a345db20b",
   "metadata": {},
   "source": [
    "## Cleaning"
   ]
  },
  {
   "cell_type": "markdown",
   "id": "d840c93c-7551-45a2-8f74-25de19c377ad",
   "metadata": {},
   "source": [
    "We finally managed to concatenate both objects into one. The issue is we had to use an outer join. Therefore, the resulting genes are more than expected. What we need to do is clean up the genes and hopefully re-index."
   ]
  },
  {
   "cell_type": "markdown",
   "id": "d7edae5e-f781-4505-b4f8-7603fcbaa057",
   "metadata": {},
   "source": [
    "#### Assign Sample identity"
   ]
  },
  {
   "cell_type": "code",
   "execution_count": null,
   "id": "f16134bb-a529-4cfe-818f-164bace5b8a8",
   "metadata": {},
   "outputs": [],
   "source": [
    "h_obs = list(human.obs.index)\n",
    "c_obs = list(cyno.obs.index)"
   ]
  },
  {
   "cell_type": "code",
   "execution_count": null,
   "id": "47d6431a-15a3-492e-97e7-aaebbc249758",
   "metadata": {},
   "outputs": [],
   "source": [
    "merged.obs['human'] = merged.obs.index.isin(h_obs)"
   ]
  },
  {
   "cell_type": "code",
   "execution_count": null,
   "id": "a1191ed1-7834-4669-a8ba-138cab81b33b",
   "metadata": {},
   "outputs": [],
   "source": [
    "Sample = list(merged.obs['human'])\n",
    "\n",
    "# change to string\n",
    "Sample = list(map(str, Sample))\n",
    "\n",
    "dictionary = {'True': 'human', 'False': 'cyno'}\n",
    "\n",
    "sample = []\n",
    "for i, file in enumerate(Sample):\n",
    "    if Sample[i] in dictionary:\n",
    "        sample.append(dictionary[file])\n",
    "\n",
    "sample"
   ]
  },
  {
   "cell_type": "code",
   "execution_count": null,
   "id": "08ddc21d-a957-41c7-b942-a348d9ef7dd0",
   "metadata": {},
   "outputs": [],
   "source": [
    "merged.obs['Sample'] = sample"
   ]
  },
  {
   "cell_type": "code",
   "execution_count": null,
   "id": "21ecfc93-32a8-4643-8609-4272687f9273",
   "metadata": {},
   "outputs": [],
   "source": [
    "del merged.obs['human']"
   ]
  },
  {
   "cell_type": "code",
   "execution_count": null,
   "id": "d90b55db-161b-4951-b7de-b8787594347b",
   "metadata": {},
   "outputs": [],
   "source": [
    "merged.obs"
   ]
  },
  {
   "cell_type": "markdown",
   "id": "b3126dcc-c81b-4061-af6e-777ea8fdc184",
   "metadata": {
    "tags": []
   },
   "source": [
    "#### Remove nans"
   ]
  },
  {
   "cell_type": "code",
   "execution_count": null,
   "id": "fa04753e-a616-432b-973c-ed574aec16d6",
   "metadata": {},
   "outputs": [],
   "source": [
    "merged.var"
   ]
  },
  {
   "cell_type": "code",
   "execution_count": null,
   "id": "aff9814d-78fc-437d-82bf-1b0001606acd",
   "metadata": {},
   "outputs": [],
   "source": [
    "NAs = []\n",
    "\n",
    "for i in merged.var.index:\n",
    "    if i.startswith('nan-'):\n",
    "        NAs.append(i)\n",
    "NAs"
   ]
  },
  {
   "cell_type": "code",
   "execution_count": null,
   "id": "d6ba3679-4000-4f4f-b397-96f977963fd7",
   "metadata": {},
   "outputs": [],
   "source": [
    "merged.var['NAs'] = merged.var.index.isin(NAs)"
   ]
  },
  {
   "cell_type": "code",
   "execution_count": null,
   "id": "ef9082a3-72d1-464b-8f31-9e5fd252ba62",
   "metadata": {},
   "outputs": [],
   "source": [
    "merged = merged[:, merged.var['NAs']]"
   ]
  },
  {
   "cell_type": "code",
   "execution_count": null,
   "id": "dd6ff907-f283-4802-bf84-7a8f5f6cdfaa",
   "metadata": {},
   "outputs": [],
   "source": [
    "merged.var"
   ]
  },
  {
   "cell_type": "markdown",
   "id": "8400bde3-e4e6-4c87-9c53-cf68e4221558",
   "metadata": {},
   "source": [
    "#### Filter Homology (again)"
   ]
  },
  {
   "cell_type": "markdown",
   "id": "1fe2ad71-dfa7-4072-930b-16c7ec1a4441",
   "metadata": {},
   "source": [
    "Reset the index"
   ]
  },
  {
   "cell_type": "code",
   "execution_count": null,
   "id": "668bd86f-3c26-4bb1-a256-6d5de1040878",
   "metadata": {},
   "outputs": [],
   "source": [
    "merged.var_names = merged.var['gene']"
   ]
  },
  {
   "cell_type": "markdown",
   "id": "317141bd-2154-4426-bf2b-43a2dff97478",
   "metadata": {},
   "source": [
    "Check for any duplicates"
   ]
  },
  {
   "cell_type": "code",
   "execution_count": null,
   "id": "acfe62ce-86c0-4bd6-9c5d-c9e97e3c7a38",
   "metadata": {},
   "outputs": [],
   "source": [
    "np.any(merged.var.duplicated())"
   ]
  },
  {
   "cell_type": "markdown",
   "id": "fb3ce1b6-1add-409e-8fa2-328b6bb068c9",
   "metadata": {},
   "source": [
    "Let's try and filter now"
   ]
  },
  {
   "cell_type": "markdown",
   "id": "1020c062-17db-4640-9710-ce4208fa40c3",
   "metadata": {},
   "source": [
    "Taking a look at `gene_mapping3` from the beginning of the notebook"
   ]
  },
  {
   "cell_type": "code",
   "execution_count": null,
   "id": "ee2ed625-7817-4324-9c59-2e20861830a7",
   "metadata": {},
   "outputs": [],
   "source": [
    "len(gene_mapping3)"
   ]
  },
  {
   "cell_type": "markdown",
   "id": "0dc485a6-bc6b-4050-acea-77786939c0e7",
   "metadata": {},
   "source": [
    "We want to get the gene names and create a list which we will then use to filter the `merged` object on"
   ]
  },
  {
   "cell_type": "code",
   "execution_count": null,
   "id": "522f1382-ce40-4e88-84c3-2649770217e1",
   "metadata": {},
   "outputs": [],
   "source": [
    "Gene = list(merged.var['index'])"
   ]
  },
  {
   "cell_type": "code",
   "execution_count": null,
   "id": "cbf4cbb2-e0b0-489a-952e-fa7e0625f9c1",
   "metadata": {},
   "outputs": [],
   "source": [
    "gg = []\n",
    "for i in Gene:\n",
    "    if type(i) != float:\n",
    "        gg.append(i)"
   ]
  },
  {
   "cell_type": "code",
   "execution_count": null,
   "id": "2e390162-fca8-43a3-adc3-f09b3e045457",
   "metadata": {},
   "outputs": [],
   "source": [
    "len(gg)"
   ]
  },
  {
   "cell_type": "code",
   "execution_count": null,
   "id": "883a1ead-c83d-45fb-91fa-40c8621aed03",
   "metadata": {},
   "outputs": [],
   "source": [
    "merged.var['orth_gene'] = merged.var['index'].isin(gg)"
   ]
  },
  {
   "cell_type": "markdown",
   "id": "9561b5b8-a7ae-491e-866e-c18a2b77ef34",
   "metadata": {},
   "source": [
    "Now filter the entire object where they are `True`"
   ]
  },
  {
   "cell_type": "code",
   "execution_count": null,
   "id": "4f2ecb37-d44d-4bab-a88c-77970a3a636f",
   "metadata": {},
   "outputs": [],
   "source": [
    "all(merged.var['orth_gene'])"
   ]
  },
  {
   "cell_type": "code",
   "execution_count": null,
   "id": "a7c7b4fe-cc65-46f0-bd78-16c058607e01",
   "metadata": {},
   "outputs": [],
   "source": [
    "merged = merged[:, merged.var['orth_gene']]\n",
    "merged"
   ]
  },
  {
   "cell_type": "code",
   "execution_count": null,
   "id": "c52e005a-6d95-403a-8a53-6d0115f7690f",
   "metadata": {},
   "outputs": [],
   "source": [
    "merged.var"
   ]
  },
  {
   "cell_type": "code",
   "execution_count": null,
   "id": "cf2f347c-af77-4862-9e70-e022f3bc3eb3",
   "metadata": {},
   "outputs": [],
   "source": [
    "merged.write(filename = 'human_cyno_merged.h5ad')"
   ]
  },
  {
   "cell_type": "markdown",
   "id": "a363f9d4-5038-4d1a-bf82-822115619550",
   "metadata": {},
   "source": [
    "## Integration"
   ]
  },
  {
   "cell_type": "markdown",
   "id": "448d4a52-f314-4325-87d4-f54912c18735",
   "metadata": {},
   "source": [
    "**For integration, we actually need the raw counts. We can create a preprocessing function which we will call `pp` or `pp_for_doublet`. `pp` will include all the steps that we did above and we will apply it to the combined AnnData.**"
   ]
  },
  {
   "cell_type": "code",
   "execution_count": null,
   "id": "92f88ed5-6d56-4a9c-b7c5-d502f8fb1789",
   "metadata": {
    "jupyter": {
     "source_hidden": true
    },
    "tags": []
   },
   "outputs": [],
   "source": [
    "# def pp(adata):\n",
    "    \n",
    "#     # iterate over the index and modify the gene names\n",
    "#     for gene in adata.var.index:\n",
    "#         if gene in mito_genes:\n",
    "#             adata.var_names = adata.var_names.to_series().replace(gene, 'MT-' + gene)\n",
    "        \n",
    "#     # change names of `gene_ids` column\n",
    "#     adata.var['gene_ids'] = adata.var.index\n",
    "    \n",
    "#     # labeling True or False if they start with MT\n",
    "#     adata.var['mt'] = adata.var.index.str.startswith('MT-')\n",
    "            \n",
    "#     # now start the preprocessing\n",
    "#     sc.pp.calculate_qc_metrics(adata, qc_vars = ['mt'], percent_top = None, log1p = False, inplace = True)\n",
    "#     # filter out genes that were not in at least 3 cells\n",
    "#     #sc.pp.filter_genes(adata, min_cells = 3)\n",
    "#     sc.pp.filter_cells(adata, min_genes = 200)\n",
    "    \n",
    "#     # filtering out all cells below `upper_lim`\n",
    "#     upper_lim = np.quantile(adata.obs.n_genes_by_counts, 0.98)\n",
    "#     adata = adata[adata.obs.n_genes_by_counts < upper_lim]\n",
    "    \n",
    "#     # filter mito\n",
    "#     adata = adata[adata.obs.pct_counts_mt < 10]\n",
    "    \n",
    "#     adata = cyno\n",
    "    \n",
    "#     # return preprocessed concatenated AnnData\n",
    "#     return cyno"
   ]
  },
  {
   "cell_type": "markdown",
   "id": "8f6bb790-dcf1-4884-b6fd-c7a371b6a109",
   "metadata": {},
   "source": [
    "Let's run for `merged`"
   ]
  },
  {
   "cell_type": "code",
   "execution_count": null,
   "id": "1beb75ee-9e49-4d9b-8b75-deaace6f0a4a",
   "metadata": {},
   "outputs": [],
   "source": [
    "human = sc.read_h5ad('combined_human.h5ad')\n",
    "cyno = sc.read_h5ad('cyno_combined.h5ad')"
   ]
  },
  {
   "cell_type": "code",
   "execution_count": null,
   "id": "f95ec2ff-519c-4706-a57b-73feef04bf19",
   "metadata": {},
   "outputs": [],
   "source": [
    "human"
   ]
  },
  {
   "cell_type": "code",
   "execution_count": null,
   "id": "ddf3eea3-2611-4ef9-83de-aed3b5957192",
   "metadata": {},
   "outputs": [],
   "source": [
    "cyno"
   ]
  },
  {
   "cell_type": "code",
   "execution_count": null,
   "id": "a5d51470-2a2c-4ed4-b46b-40b4d89a59b0",
   "metadata": {},
   "outputs": [],
   "source": [
    "merged = sc.read_h5ad('human_cyno_merged.h5ad')"
   ]
  },
  {
   "cell_type": "markdown",
   "id": "df8b26ff-4cb6-494f-8085-baab34a3e164",
   "metadata": {},
   "source": [
    "#### Retrieve `.obs` from non-concatenated objects"
   ]
  },
  {
   "cell_type": "markdown",
   "id": "a1c2aa17-42fd-4dc0-94dc-e99240398328",
   "metadata": {},
   "source": [
    "Making sure all barcodes have '-1' at the end"
   ]
  },
  {
   "cell_type": "code",
   "execution_count": null,
   "id": "cbde3b12-9543-4a2e-b100-fa7b88d23d08",
   "metadata": {},
   "outputs": [],
   "source": [
    "human.obs['cells'] = human.obs_names.str.split('-').str[0]\n",
    "human.obs['cells'] = human.obs['cells'] + '-1'\n",
    "human.obs_names = human.obs['cells']\n",
    "del human.obs['cells']"
   ]
  },
  {
   "cell_type": "code",
   "execution_count": null,
   "id": "c9c1ad93-6b2c-476b-8c84-b403836cf7da",
   "metadata": {},
   "outputs": [],
   "source": [
    "merged.obs['cells'] = merged.obs_names.str.split('-').str[0]"
   ]
  },
  {
   "cell_type": "code",
   "execution_count": null,
   "id": "3bad6542-1d16-450f-a76f-85f846f211c3",
   "metadata": {},
   "outputs": [],
   "source": [
    "merged.obs"
   ]
  },
  {
   "cell_type": "code",
   "execution_count": null,
   "id": "ca6d0409-bd70-4f5f-9e90-efa705d5e2c7",
   "metadata": {},
   "outputs": [],
   "source": [
    "merged.obs['cells'] = merged.obs['cells'] + '-1'"
   ]
  },
  {
   "cell_type": "code",
   "execution_count": null,
   "id": "68c788e5-f80e-49a6-8b6a-fe0cc6c026ee",
   "metadata": {},
   "outputs": [],
   "source": [
    "merged.obs_names = merged.obs['cells']\n",
    "del merged.obs['cells']"
   ]
  },
  {
   "cell_type": "code",
   "execution_count": null,
   "id": "c772dc10-e9a2-4e0d-93d0-09b159f8e22c",
   "metadata": {},
   "outputs": [],
   "source": [
    "merged.obs"
   ]
  },
  {
   "cell_type": "markdown",
   "id": "183b3213-31a0-435d-9a9e-69c17df642ba",
   "metadata": {},
   "source": [
    "Get `.obs`"
   ]
  },
  {
   "cell_type": "markdown",
   "id": "538bf8ff-934a-4215-ab1b-aad7a618cf7e",
   "metadata": {},
   "source": [
    "The `.obs` did not transfer during the concatenation (for whatever reason...will look into it). So what we can do is row-bind the `.obs` of human and cyno together. Then, set the obs of the merged object equal to `merged_obs_df.reindex(merged.obs.index)`. This will preserve the cell ID order in `merged`. Additionally, we can validate this by checking if all the values line up like so: `equal_elements = [x == y for x, y in zip(list(t.obs.index), list(merged.obs.index))]` and then running `any(equal_elements)`. If the result of `any(equal_elements)` is true, then we know that every element at each index of the two lists is equal to each other, and the order is preserved."
   ]
  },
  {
   "cell_type": "code",
   "execution_count": null,
   "id": "d2f93228-6248-412e-a0d3-2690ef6b6e16",
   "metadata": {},
   "outputs": [],
   "source": [
    "mapping_human"
   ]
  },
  {
   "cell_type": "markdown",
   "id": "8500ce06-0ad9-4872-beb9-6db607c02312",
   "metadata": {},
   "source": [
    "Using `t` as a test"
   ]
  },
  {
   "cell_type": "code",
   "execution_count": null,
   "id": "91e32198-146d-4aee-8ddc-0440f71dcdb3",
   "metadata": {},
   "outputs": [],
   "source": [
    "t = merged"
   ]
  },
  {
   "cell_type": "code",
   "execution_count": null,
   "id": "a28aa77d-b722-4104-97dc-42e1dcd6c065",
   "metadata": {},
   "outputs": [],
   "source": [
    "merged_obs_df = pd.concat([human.obs, cyno.obs], axis = 0)\n",
    "\n",
    "t.obs = merged_obs_df.reindex(t.obs.index)"
   ]
  },
  {
   "cell_type": "code",
   "execution_count": null,
   "id": "02ab3a7d-f1f6-49cc-b31f-65442aed736c",
   "metadata": {},
   "outputs": [],
   "source": []
  },
  {
   "cell_type": "code",
   "execution_count": null,
   "id": "c2668bab-5e8e-4bc5-9f9b-87bac9c9a2c4",
   "metadata": {},
   "outputs": [],
   "source": [
    "t.var_names = list(t.var_names)"
   ]
  },
  {
   "cell_type": "code",
   "execution_count": null,
   "id": "6e09a2f5-4af0-4c63-80b9-857bcc03cd29",
   "metadata": {},
   "outputs": [],
   "source": [
    "t.var_names_make_unique()"
   ]
  },
  {
   "cell_type": "code",
   "execution_count": null,
   "id": "0db25efb-a3ab-4c56-9b53-9b320cbff0fc",
   "metadata": {},
   "outputs": [],
   "source": [
    "equal_elements  = [x == y for x, y in zip(list(t.obs.index), list(merged.obs.index))]\n",
    "all(equal_elements)"
   ]
  },
  {
   "cell_type": "markdown",
   "id": "e7b3b59c-2f32-41fb-8430-23b7b5de149e",
   "metadata": {},
   "source": [
    "It seems to have worked. Let's do it for real with `merged`."
   ]
  },
  {
   "cell_type": "code",
   "execution_count": null,
   "id": "b92a6baf-a6c1-4ae5-82f2-559303050150",
   "metadata": {},
   "outputs": [],
   "source": [
    "merged.obs = merged_obs_df.reindex(merged.obs.index)"
   ]
  },
  {
   "cell_type": "markdown",
   "id": "08f1d2d5-ff40-4ad0-afcb-59d976c4756f",
   "metadata": {},
   "source": [
    "Save the object"
   ]
  },
  {
   "cell_type": "code",
   "execution_count": null,
   "id": "04ca2fcb-38bb-481c-a10c-d322bfe56282",
   "metadata": {},
   "outputs": [],
   "source": [
    "merged.write(filename = 'human_cyno_merged.h5ad')"
   ]
  },
  {
   "cell_type": "markdown",
   "id": "eb451ec3-62a8-428b-b719-00d8d46bd4eb",
   "metadata": {},
   "source": [
    "We need to get rid of the genes that are not in any cells"
   ]
  },
  {
   "cell_type": "code",
   "execution_count": null,
   "id": "eb36002f-8e0d-4ec6-b627-1984387f6525",
   "metadata": {},
   "outputs": [],
   "source": [
    "merged.obs_names_make_unique()"
   ]
  },
  {
   "cell_type": "code",
   "execution_count": null,
   "id": "d7ff9416-de12-47db-b5be-4c2e0ca1bdc2",
   "metadata": {},
   "outputs": [],
   "source": [
    "sc.pp.filter_genes(merged, min_cells = 10)"
   ]
  },
  {
   "cell_type": "code",
   "execution_count": null,
   "id": "dbf2e850-d1af-4f14-8de4-b838459e9fbf",
   "metadata": {},
   "outputs": [],
   "source": [
    "merged"
   ]
  },
  {
   "cell_type": "code",
   "execution_count": null,
   "id": "9219316d-be55-4677-9ff3-692241f4ef31",
   "metadata": {},
   "outputs": [],
   "source": [
    "merged.X"
   ]
  },
  {
   "cell_type": "markdown",
   "id": "0e17ac09-ac0f-4a99-871d-c8d06c6f4201",
   "metadata": {},
   "source": [
    "Our matrix is already sparse; however, we can convert it to sparse (if it were dense) with the code below :\n",
    "\n",
    "`adata.X = csr_matrix(adata.X)`"
   ]
  },
  {
   "cell_type": "markdown",
   "id": "9dbb3ba7-5a78-4dcd-858e-e5bcc5893487",
   "metadata": {},
   "source": [
    "#### Save the concatenated object"
   ]
  },
  {
   "cell_type": "code",
   "execution_count": null,
   "id": "e93d6aef-60ab-4d09-8038-c56e1f08fa91",
   "metadata": {},
   "outputs": [],
   "source": [
    "merged.write_h5ad(filename = 'human_cyno_merged.h5ad')"
   ]
  },
  {
   "cell_type": "markdown",
   "id": "3f97e6e9-03b2-4013-b992-64929dced3f0",
   "metadata": {},
   "source": [
    "Let's look at how many cells we have for each sample"
   ]
  },
  {
   "cell_type": "code",
   "execution_count": null,
   "id": "4d63c051-5a9a-4e4d-9ff4-748daeb08805",
   "metadata": {},
   "outputs": [],
   "source": [
    "merged.obs.groupby('Sample').count()"
   ]
  },
  {
   "cell_type": "code",
   "execution_count": null,
   "id": "4e7b38d4-f0cb-4512-883b-7e77a69a9b80",
   "metadata": {},
   "outputs": [],
   "source": [
    "merged"
   ]
  },
  {
   "cell_type": "markdown",
   "id": "10bd8120-b6ca-43ef-b6ee-b12cd4b16ff1",
   "metadata": {},
   "source": [
    "For integration with `scvi`, we need the number of genes to be about half the number of cells."
   ]
  },
  {
   "cell_type": "markdown",
   "id": "fc428c56-e930-46a5-bb75-5bca10db1303",
   "metadata": {},
   "source": [
    "Our number of genes here is good. In the scenario where we would need to remove more genes, we could do so by applying a more stringent threshold like the one below."
   ]
  },
  {
   "cell_type": "code",
   "execution_count": null,
   "id": "d9bbce77-c5e7-4c1d-bbe4-59d98de0ca2b",
   "metadata": {},
   "outputs": [],
   "source": [
    "# sc.pp.filter_genes(cyno, min_cells = 100)\n",
    "# cyno"
   ]
  },
  {
   "cell_type": "markdown",
   "id": "bbb12c2d-2a32-4ace-bee8-cfbe2d15b49d",
   "metadata": {},
   "source": [
    "Great! Now we have about half the as many genes as cells."
   ]
  },
  {
   "cell_type": "markdown",
   "id": "626ac052-b3a3-426b-900f-3420537a18e7",
   "metadata": {},
   "source": [
    "Now the data are combined, but we aren't done yet. We will actually perform the integration where we can correct for batch effects and mitochondrial counts."
   ]
  },
  {
   "cell_type": "markdown",
   "id": "ef13e18d-d2d8-49d9-8b31-7dc9d923bb56",
   "metadata": {},
   "source": [
    "#### Now we get to use `scvi` to do the integration"
   ]
  },
  {
   "cell_type": "markdown",
   "id": "be6098f8-f201-4265-bdbb-094c96067cde",
   "metadata": {},
   "source": [
    "In order to prep our AnnData object (`cyno`) for use with `scvi` we need to save the raw data as it is now"
   ]
  },
  {
   "cell_type": "code",
   "execution_count": null,
   "id": "ccadb53a-0d35-4cb5-bca3-31d1a28dba56",
   "metadata": {},
   "outputs": [],
   "source": [
    "merged = sc.read_h5ad('human_cyno_merged.h5ad')"
   ]
  },
  {
   "cell_type": "code",
   "execution_count": null,
   "id": "c81ea657-e963-4f6a-b0e2-8effee5cd0ae",
   "metadata": {},
   "outputs": [],
   "source": [
    "sc.pp.filter_cells(merged, min_counts = 1)"
   ]
  },
  {
   "cell_type": "code",
   "execution_count": null,
   "id": "8c1a095a-b371-4689-870d-b86340d0d9ef",
   "metadata": {},
   "outputs": [],
   "source": [
    "# saving raw data\n",
    "merged.layers['counts'] = merged.X.copy()"
   ]
  },
  {
   "cell_type": "markdown",
   "id": "c32935ee-8c34-4194-8378-beac691cf4da",
   "metadata": {},
   "source": [
    "**This data has not been normalized, converted to log counts, or anything. Just saving the raw data into this layer, `counts`. We won't touch it again *EXCEPT* when we read from it.**"
   ]
  },
  {
   "cell_type": "markdown",
   "id": "dd17ea84-e322-40a1-8a22-707d6e2cec10",
   "metadata": {},
   "source": [
    "Making a quick normalization function"
   ]
  },
  {
   "cell_type": "markdown",
   "id": "b81d004e-3ae0-46c1-a6a6-5e6c1565f6f2",
   "metadata": {},
   "source": [
    "#### Normalization"
   ]
  },
  {
   "cell_type": "code",
   "execution_count": null,
   "id": "94ab8ef4-8e45-406b-97d6-1256cd65e543",
   "metadata": {},
   "outputs": [],
   "source": [
    "sc.pp.normalize_total(merged, target_sum = 1e4)\n",
    "sc.pp.log1p(merged)"
   ]
  },
  {
   "cell_type": "markdown",
   "id": "acda1c4f-b82c-4336-b79e-1623c84baff1",
   "metadata": {},
   "source": [
    "Now save this log-normalized data into the `raw` slow"
   ]
  },
  {
   "cell_type": "code",
   "execution_count": null,
   "id": "2ba7ec2a-658c-42eb-8f61-74434a00661d",
   "metadata": {},
   "outputs": [],
   "source": [
    "merged.raw = merged"
   ]
  },
  {
   "cell_type": "markdown",
   "id": "fc513971-b429-4d66-b212-6628d0058170",
   "metadata": {},
   "source": [
    "`SCVI` will use the raw counts we saved above, and other modules and functions will use the log-normalized counts"
   ]
  },
  {
   "cell_type": "code",
   "execution_count": null,
   "id": "9675841e-3f95-4d16-88ed-fe07de1bac42",
   "metadata": {},
   "outputs": [],
   "source": [
    "merged.obs.groupby('Sample').count()"
   ]
  },
  {
   "cell_type": "markdown",
   "id": "acfb6bf1-a33d-47ce-a862-199d53fd45fd",
   "metadata": {},
   "source": [
    "Let's add a `species` column to `.obs` to denote cyno and human"
   ]
  },
  {
   "cell_type": "code",
   "execution_count": null,
   "id": "cd4b3f7d-3490-459d-8fb4-f19901ab1a84",
   "metadata": {},
   "outputs": [],
   "source": [
    "# initialize empty list\n",
    "species = []\n",
    "# set regex pattern\n",
    "pattern = r'^\\d{3}_GSE\\d{6}$'\n",
    "for sample in merged.obs['Sample']:\n",
    "    if re.match(pattern, sample):\n",
    "        species.append('human')\n",
    "    else:\n",
    "        species.append('cyno')\n",
    "merged.obs['species'] = species\n",
    "merged.obs"
   ]
  },
  {
   "cell_type": "markdown",
   "id": "c35cb9bf-9176-4203-9135-6245ffbcfdb5",
   "metadata": {
    "tags": []
   },
   "source": [
    "#### Set up the `SCVI` model"
   ]
  },
  {
   "cell_type": "code",
   "execution_count": null,
   "id": "49b68908-58be-4349-a432-fd9ef67ae217",
   "metadata": {},
   "outputs": [],
   "source": [
    "scvi.model.SCVI.setup_anndata(merged, layer = 'counts',\n",
    "                             categorical_covariate_keys = ['Sample', 'species'],\n",
    "                             continuous_covariate_keys = ['pct_counts_mt', 'total_counts'])"
   ]
  },
  {
   "cell_type": "markdown",
   "id": "cc855d9a-ffd2-4e33-8239-7fdbc53d6697",
   "metadata": {},
   "source": [
    "#### Initialize and train the model"
   ]
  },
  {
   "cell_type": "code",
   "execution_count": null,
   "id": "d3f99fbe-3021-49af-b255-083f96a80963",
   "metadata": {},
   "outputs": [],
   "source": [
    "model = scvi.model.SCVI(merged)\n",
    "model.train()"
   ]
  },
  {
   "cell_type": "markdown",
   "id": "e2c68df3-78e6-4c57-ba6a-5a6d761a63f1",
   "metadata": {},
   "source": [
    "Now that the model is trained we want to get a couple of things from it:\n",
    "    \n",
    "    1. We can use `model.get_latent_representation()` which is a numpy array were the number of cells are equal to the number of rows, and there are 10 columns. This is the `SCVI` array that represents our data. This is what we will be using for clustering and UMAP"
   ]
  },
  {
   "cell_type": "code",
   "execution_count": null,
   "id": "18a69a70-2b81-4528-b80a-ca96bee62f26",
   "metadata": {},
   "outputs": [],
   "source": [
    "model.get_latent_representation()"
   ]
  },
  {
   "cell_type": "markdown",
   "id": "52436447-cb62-4062-adfa-7ad5f6b2e2db",
   "metadata": {},
   "source": [
    "Let's look at the dimensions"
   ]
  },
  {
   "cell_type": "code",
   "execution_count": null,
   "id": "821de1fc-d680-4da3-a434-0cf010849618",
   "metadata": {},
   "outputs": [],
   "source": [
    "model.get_latent_representation().shape"
   ]
  },
  {
   "cell_type": "markdown",
   "id": "eb710d30-23c3-41b0-a425-98aa1e078bf9",
   "metadata": {},
   "source": [
    "Now, we will save it to the AnnData object"
   ]
  },
  {
   "cell_type": "code",
   "execution_count": null,
   "id": "dea18e14-c79a-41f9-97e6-cfa79d7b8fe7",
   "metadata": {},
   "outputs": [],
   "source": [
    "merged.obsm['X_scVI'] = model.get_latent_representation()"
   ]
  },
  {
   "cell_type": "markdown",
   "id": "29801864-6aab-43ec-81e9-29bc94c1dba4",
   "metadata": {},
   "source": [
    "We can also get the `SCVI` normalized expression, which is a cell by gene data frame and save it as a layer rather than overwriting the default values"
   ]
  },
  {
   "cell_type": "code",
   "execution_count": null,
   "id": "a7304ede-6c27-400e-88ed-5ce3eca45d53",
   "metadata": {},
   "outputs": [],
   "source": [
    "merged.layers['scVI_normalized'] = model.get_normalized_expression(library_size = 1e4)"
   ]
  },
  {
   "cell_type": "markdown",
   "id": "6b197a4f-ff34-40fc-8b55-c9597ed67054",
   "metadata": {},
   "source": [
    "Saving so I don't have to run the model again :)"
   ]
  },
  {
   "cell_type": "code",
   "execution_count": null,
   "id": "c479e3e7-4ad8-4c43-be7e-ca1d12f7ad86",
   "metadata": {},
   "outputs": [],
   "source": [
    "model.save('model/')"
   ]
  },
  {
   "cell_type": "code",
   "execution_count": null,
   "id": "2dbc366b-324a-4ef2-bdfe-905895cb91a2",
   "metadata": {},
   "outputs": [],
   "source": [
    "merged.write_h5ad(filename = 'human_cyno_merged.h5ad')"
   ]
  },
  {
   "cell_type": "markdown",
   "id": "402dd7e2-fdcb-4107-8c9f-09f50c051d9c",
   "metadata": {},
   "source": [
    "### Clustering"
   ]
  },
  {
   "cell_type": "markdown",
   "id": "075266d8-8b35-4371-817e-c46594b5ee6d",
   "metadata": {},
   "source": [
    "Now we can go ahead and cluster the data"
   ]
  },
  {
   "cell_type": "markdown",
   "id": "a6c0ff85-da02-4f52-a991-4dcf03b39b47",
   "metadata": {},
   "source": [
    "Loading in the object"
   ]
  },
  {
   "cell_type": "code",
   "execution_count": null,
   "id": "fdbd71c4-9b7d-400b-9eb1-80a510749a7f",
   "metadata": {},
   "outputs": [],
   "source": [
    "merged = sc.read_h5ad('human_cyno_merged.h5ad')"
   ]
  },
  {
   "cell_type": "code",
   "execution_count": null,
   "id": "3eab2a80-ed99-4315-b650-8293f546666c",
   "metadata": {},
   "outputs": [],
   "source": [
    "merged"
   ]
  },
  {
   "cell_type": "markdown",
   "id": "b668a4c2-e975-4044-bedf-e2565d9b1e54",
   "metadata": {},
   "source": [
    "#### Using `sc.pp,neighbors()` function for clustering"
   ]
  },
  {
   "cell_type": "markdown",
   "id": "0c85b701-f50b-4796-9a35-fe0446b2f63e",
   "metadata": {},
   "source": [
    "We are using the latent representation from `scVI` to calculate the neighbors"
   ]
  },
  {
   "cell_type": "code",
   "execution_count": null,
   "id": "6a144728-733c-4ef3-898b-0ab8717f7a26",
   "metadata": {},
   "outputs": [],
   "source": [
    "sc.pp.neighbors(merged, use_rep = 'X_scVI')"
   ]
  },
  {
   "cell_type": "markdown",
   "id": "c0fed6df-84d1-477a-a02c-6d24a852524b",
   "metadata": {},
   "source": [
    "Since the neighbords were calculated above using `X_scVI` we don't have to specify anything while passing `sc.tl.umap(merged)` and the same for `sc.tl.leiden(merged)` except with a resolution of 0.5 (which we might change later). This might take a minute or two depending on how many cells you have!"
   ]
  },
  {
   "cell_type": "markdown",
   "id": "f960f79e-a173-4c2d-a852-59d980407656",
   "metadata": {},
   "source": [
    "We are using the Leiden algorithm here which is an improvement upon the largely used Louvain algorithm. The Leiden algorithm has been proposed as a great algorithm for scRNA-seq analysis in place of Louvain. Vincent Traag, Ludo Waltman, and Nees Jan van Eck created this algorithm as they noticed a serious issue with the Louvain algorithm— the Louvain algorithm may yield arbitrarily badly connected communities. In the worst case, communities may even be disconnected, especially when running the algorithm iteratively. This Leiden algorithm corrects that and guarantees connectedness of communities which is crucial for single-cell analysis."
   ]
  },
  {
   "cell_type": "code",
   "execution_count": null,
   "id": "215283e9-08d4-4174-b099-9d1644775bf8",
   "metadata": {},
   "outputs": [],
   "source": [
    "sc.tl.umap(merged)\n",
    "sc.tl.leiden(merged, resolution = 0.5)"
   ]
  },
  {
   "cell_type": "markdown",
   "id": "a007eaed-bd5f-46e1-ad43-ff778e34a624",
   "metadata": {},
   "source": [
    "We will plot two UMAPs"
   ]
  },
  {
   "cell_type": "code",
   "execution_count": null,
   "id": "2bb70747-0611-4589-b6f3-ae6977f2a50c",
   "metadata": {},
   "outputs": [],
   "source": [
    "sc.pl.umap(merged, color = ['leiden', 'Sample', 'species'], frameon = True)"
   ]
  },
  {
   "cell_type": "markdown",
   "id": "48332838-6b11-460c-9453-526c3da6e9c5",
   "metadata": {},
   "source": [
    "#### Save object as `integrated.h5ad`"
   ]
  },
  {
   "cell_type": "code",
   "execution_count": null,
   "id": "84b35e5b-5f91-4a40-b7dd-cbd0b3d384b2",
   "metadata": {},
   "outputs": [],
   "source": [
    "merged.write(filename = 'integrated.h5ad')"
   ]
  },
  {
   "cell_type": "markdown",
   "id": "70703c3d-7329-4b37-a05e-139a08ba23cb",
   "metadata": {},
   "source": [
    "## Label Cell-Types"
   ]
  },
  {
   "cell_type": "markdown",
   "id": "06a45ab8-6dd0-4baa-9df3-9d7766038cdf",
   "metadata": {},
   "source": [
    "Switching the name of `merged` to `integrated`"
   ]
  },
  {
   "cell_type": "code",
   "execution_count": null,
   "id": "b0afc115-de8a-4688-b0f9-f405b3d8470f",
   "metadata": {},
   "outputs": [],
   "source": [
    "integrated = merged\n",
    "del merged"
   ]
  },
  {
   "cell_type": "markdown",
   "id": "b43a12e7-e644-47ad-a9ec-56a764ccb5a9",
   "metadata": {},
   "source": [
    "Make sure it worked"
   ]
  },
  {
   "cell_type": "code",
   "execution_count": null,
   "id": "7036031b-fbcc-4e86-b6df-f5503385a227",
   "metadata": {},
   "outputs": [],
   "source": [
    "integrated"
   ]
  },
  {
   "cell_type": "markdown",
   "id": "d40aad19-b04b-41e4-ad52-d2539ab435bd",
   "metadata": {},
   "source": [
    "We will be using both the `scVI` trained model data."
   ]
  },
  {
   "cell_type": "markdown",
   "id": "4b6e3eec-2d14-40e9-b705-cce6ee47597e",
   "metadata": {},
   "source": [
    "#### `scVI` Data"
   ]
  },
  {
   "cell_type": "markdown",
   "id": "b6c06427-3234-451b-b1bd-48141b2e4692",
   "metadata": {},
   "source": [
    "Reload the model and AnnData (if needed)"
   ]
  },
  {
   "cell_type": "code",
   "execution_count": null,
   "id": "4ab7720c-9efa-459e-8da8-55e68e657233",
   "metadata": {},
   "outputs": [],
   "source": [
    "integrated = sc.read_h5ad('integrated.h5ad')"
   ]
  },
  {
   "cell_type": "code",
   "execution_count": null,
   "id": "fa3bec9d-3e4d-4e0e-a8e7-03eabb428e77",
   "metadata": {},
   "outputs": [],
   "source": [
    "model = scvi.model.SCVI.load('model/', adata = integrated, use_gpu = False)"
   ]
  },
  {
   "cell_type": "code",
   "execution_count": null,
   "id": "0754f83a-67c2-476d-b473-e6b3bda7da11",
   "metadata": {},
   "outputs": [],
   "source": [
    "scVI_markers = model.differential_expression(groupby = 'leiden')"
   ]
  },
  {
   "cell_type": "markdown",
   "id": "8ea93ab9-f774-41fc-9461-e7c29f357eb3",
   "metadata": {},
   "source": [
    "Let's look at the markers and save them to load later"
   ]
  },
  {
   "cell_type": "code",
   "execution_count": null,
   "id": "b3cb3876-482e-40b5-863a-ed97dc66f8d8",
   "metadata": {},
   "outputs": [],
   "source": [
    "scVI_markers.to_csv('scVI_markers', sep = '\\t', index = False)"
   ]
  },
  {
   "cell_type": "code",
   "execution_count": null,
   "id": "9c92aefa-1de8-4ba9-9df3-255a1901d3cf",
   "metadata": {},
   "outputs": [],
   "source": [
    "scVI_markers"
   ]
  },
  {
   "cell_type": "markdown",
   "id": "dc2e0d7e-0d1f-46a6-ab88-85d3fe15ed52",
   "metadata": {},
   "source": [
    "The dataframe contains a column 'is_de_fdr_0.05' which we only want the genes where their value for this column is `True` and we want the log-fold change (lfc) to be greater than 0.5. Let's filter for that below."
   ]
  },
  {
   "cell_type": "code",
   "execution_count": null,
   "id": "20c941bb-a917-4a13-b0cf-e649f8c0fb7d",
   "metadata": {},
   "outputs": [],
   "source": [
    "scVI_markers = scVI_markers[(scVI_markers['is_de_fdr_0.05']) & (scVI_markers.lfc_mean > .5)]\n",
    "# create a names column of the index so it is easier to filter the DF\n",
    "scVI_markers['names'] = scVI_markers.index\n",
    "scVI_markers"
   ]
  },
  {
   "cell_type": "markdown",
   "id": "e2dd9447-d281-487a-87a1-c3ad9d0be1e0",
   "metadata": {},
   "source": [
    "#### Let's start the identification"
   ]
  },
  {
   "cell_type": "markdown",
   "id": "a8cc0cd4-d788-4a96-8cc4-8688689221a9",
   "metadata": {},
   "source": [
    "Let's plot the UMAP again with the legend on the clusters so it will be an easy reference."
   ]
  },
  {
   "cell_type": "code",
   "execution_count": null,
   "id": "09472a66-3843-4d7f-8f2f-205846f37940",
   "metadata": {},
   "outputs": [],
   "source": [
    "sc.pl.umap(integrated, color = ['leiden'], frameon = False, legend_loc = \"on data\")"
   ]
  },
  {
   "cell_type": "markdown",
   "id": "3f262f75-82d7-4d08-a019-6a88272b774c",
   "metadata": {},
   "source": [
    "Now we will create a dictionary from 0-18 since we have 19 clusters. As I go along, I will manually fill out the dictionary when I decide on what cell-type each cluster is. There are ways to automatically label clusters; however, it is found that doing it manually—alebit taking longer—is more accurate especially when you don't have a good reference dataset (which is definitely the case here since we are working with combined cyno and human lung data)."
   ]
  },
  {
   "cell_type": "markdown",
   "id": "f4761cdd-23ec-4fbc-ae2f-55cb28128e17",
   "metadata": {},
   "source": [
    "I just copy-pasted the output from above so we can fill in the cell-type for the key values as we identify clusters. Once we're done, we'll use this to map the cell labels of the AnnData."
   ]
  },
  {
   "cell_type": "code",
   "execution_count": null,
   "id": "4c074f15-4c2f-40fc-ae07-01c6401db0ef",
   "metadata": {},
   "outputs": [],
   "source": [
    "# create the dictionary\n",
    "for x in range(0, 19):\n",
    "    print(f\"'{x}':'',\")"
   ]
  },
  {
   "cell_type": "code",
   "execution_count": null,
   "id": "03ce8cb9-07d7-4e8a-b971-948d4f775c11",
   "metadata": {},
   "outputs": [],
   "source": [
    "sc.pl.umap(integrated, color = ['leiden'], frameon = False, legend_loc = \"on data\")"
   ]
  },
  {
   "cell_type": "markdown",
   "id": "b21d1317-7245-4084-9ee0-b2d39d9820ae",
   "metadata": {},
   "source": [
    "It is easiest to start with cell-types that you know are going to be in the data. Almost every dataset contains some blood cells in them. These are a good indicator to reduce or increase the resolution of clustering. Let's look for those first: T cells, CD4+ T cells. We will look at expression as feature plots."
   ]
  },
  {
   "cell_type": "code",
   "execution_count": null,
   "id": "5c71a22f-c4aa-4c07-ae07-84dc93baed0a",
   "metadata": {},
   "outputs": [],
   "source": [
    "sc.pl.umap(integrated, color = ['SCGB3A2', 'MARCO'], frameon = False, layer = 'scVI_normalized')"
   ]
  },
  {
   "cell_type": "code",
   "execution_count": null,
   "id": "f80f746a",
   "metadata": {},
   "outputs": [],
   "source": [
    "sc.pl.umap(integrated, color = ['SCGB3A2', 'MARCO'], frameon = False, layer = 'scVI_normalized')"
   ]
  },
  {
   "cell_type": "markdown",
   "id": "586971ed-6932-46bc-8e1f-d946d454bc2d",
   "metadata": {},
   "source": [
    "It seems like cluster 2 contains T cells. I switched out CD4 for CD8 to see if we needed to increase the resolution, but it seems to be fine as cluster 2 only contains CD4+ T cells."
   ]
  },
  {
   "cell_type": "markdown",
   "id": "6f05b0fd-5150-4e13-a110-eddb2f94e2c6",
   "metadata": {},
   "source": [
    "Let's look for other cell types now"
   ]
  },
  {
   "cell_type": "code",
   "execution_count": null,
   "id": "415b0b46",
   "metadata": {},
   "outputs": [],
   "source": [
    "sc.pl.umap(integrated, color = ['SCGB3A2', 'MARCO'], frameon = False, layer = 'scVI_normalized')"
   ]
  },
  {
   "cell_type": "code",
   "execution_count": null,
   "id": "3fc5d595-348d-4e61-807f-7aae03b16fbb",
   "metadata": {},
   "outputs": [],
   "source": [
    "scVI_markers[scVI_markers.names == 'SCGB3A2']"
   ]
  },
  {
   "cell_type": "code",
   "execution_count": null,
   "id": "b747215d-a5e7-4a2e-b074-82c97da84b2b",
   "metadata": {},
   "outputs": [],
   "source": [
    "scVI_markers[scVI_markers.group1 == '0'].sort_values(by = 'bayes_factor', ascending = False)"
   ]
  },
  {
   "cell_type": "code",
   "execution_count": null,
   "id": "5230c2b4-0069-46d4-93be-6095610abb38",
   "metadata": {},
   "outputs": [],
   "source": [
    "{'0':'',\n",
    "'1':'',\n",
    "'2':'CD8+ T Cells',\n",
    "'3':'',\n",
    "'4':'',\n",
    "'5':'',\n",
    "'6':'',\n",
    "'7':'',\n",
    "'8':'AT2 Cells',\n",
    "'9':'',\n",
    "'10':'',\n",
    "'11':'',\n",
    "'12':'',\n",
    "'13':'Ciliated Cells',\n",
    "'14':'',\n",
    "'15':'NK Cells',\n",
    "'16':'',\n",
    "'17':'AT1 Cells',\n",
    "'18':'Dentritic Cells'}"
   ]
  },
  {
   "cell_type": "markdown",
   "id": "e65d5fcc-2529-4e4a-942d-0a67e634da83",
   "metadata": {},
   "source": [
    "#### Higher resolution needed"
   ]
  },
  {
   "cell_type": "code",
   "execution_count": null,
   "id": "38497b17-f486-4872-88bf-590b387bc86f",
   "metadata": {},
   "outputs": [],
   "source": [
    "sc.tl.leiden(integrated, resolution = 1)"
   ]
  },
  {
   "cell_type": "markdown",
   "id": "358aa77c-cd18-4f19-9f52-4316fd0f4a13",
   "metadata": {},
   "source": [
    "Although we may have too many clusters, a lot of them will collapse."
   ]
  },
  {
   "cell_type": "code",
   "execution_count": null,
   "id": "43d61b3a-45b3-4275-8572-2d3cef64dc7e",
   "metadata": {},
   "outputs": [],
   "source": [
    "# integrated = sc.read_h5ad('integrated.h5ad')\n",
    "# scVI_markers = pd.read_table('scVI_markers.tsv')\n",
    "# scVI_markers = scVI_markers.set_index('names')\n",
    "# scVI_markers = scVI_markers[(scVI_markers['is_de_fdr_0.05']) & (scVI_markers.lfc_mean) > 0.5]"
   ]
  },
  {
   "cell_type": "code",
   "execution_count": null,
   "id": "5448a4d6-6752-45a9-90c3-93362021fcbb",
   "metadata": {},
   "outputs": [],
   "source": [
    "# scVI_markers = model.differential_expression(groupby = 'leiden')\n",
    "# scVI_markers.to_csv('scVI_markers', sep = '\\t', index = False)\n",
    "# scVI_markers = scVI_markers[(scVI_markers['is_de_fdr_0.05']) & (scVI_markers.lfc_mean > .5)]\n",
    "# # create a names column of the index so it is easier to filter the DF\n",
    "# scVI_markers['names'] = scVI_markers.index\n",
    "# scVI_markers"
   ]
  },
  {
   "cell_type": "code",
   "execution_count": null,
   "id": "b5908707-d39d-4376-adc2-2b3601893ab8",
   "metadata": {},
   "outputs": [],
   "source": [
    "sc.pl.umap(integrated, color = ['leiden'], frameon = False, legend_loc = \"on data\")"
   ]
  },
  {
   "cell_type": "markdown",
   "id": "ac3b77f3-67db-4dcc-ac3e-59ff6f0a9644",
   "metadata": {},
   "source": [
    "Get the markers"
   ]
  },
  {
   "cell_type": "code",
   "execution_count": null,
   "id": "31e32ad2-30ca-4668-a320-c7ad25817e4b",
   "metadata": {},
   "outputs": [],
   "source": [
    "sc.pl.umap(integrated, color = ['OLIG2'], frameon = False, layer = 'scVI_normalized', vmax = 5)"
   ]
  },
  {
   "cell_type": "code",
   "execution_count": null,
   "id": "46fedc2d-cc1d-4c11-8bb9-629f5868e79b",
   "metadata": {},
   "outputs": [],
   "source": [
    "scVI_markers[scVI_markers.index == 'PDGFRB'].sort_values(by = 'lfc_mean', ascending = False)"
   ]
  },
  {
   "cell_type": "code",
   "execution_count": null,
   "id": "4b04aba5-976a-409c-bde7-5067f5f111c9",
   "metadata": {},
   "outputs": [],
   "source": [
    "scVI_markers[scVI_markers.group1 == 0].sort_values(by = 'lfc_mean', ascending = False)"
   ]
  },
  {
   "cell_type": "code",
   "execution_count": null,
   "id": "a04671cf-53bf-4a87-b156-af4abd69c1e0",
   "metadata": {},
   "outputs": [],
   "source": [
    "cell_type = {'0':'Monocytes',\n",
    "'1':'Alveolar Macrophages',\n",
    "'2':'CD4+ T Cells',\n",
    "'3':'Alveolar Macrophages',\n",
    "'4':'Neutrophils',\n",
    "'5':'Alveolar Macrophages',\n",
    "'6':'Monocytes',\n",
    "'7':'CD8+ T Cells',\n",
    "'8':'Alveolar Macrophages',\n",
    "'9':'Monocytes',\n",
    "'10':'Alveolar Macrophages',\n",
    "'11':'Alveolar Macrophages',\n",
    "'12':'Alveolar Macrophages',\n",
    "'13':'Alveolar Macrophages',\n",
    "'14':'AT2',\n",
    "'15':'Granulocytes',\n",
    "'16':'Monocytes',\n",
    "'17':'Alveolar Macrophages',\n",
    "'18':'Dendritic Cells',\n",
    "'19':'Alveolar Macrophages',\n",
    "'20':'Fibroblasts/Smooth Muscle Cells/Pericytes',\n",
    "'21':'Monocytes',\n",
    "'22':'B Cells',\n",
    "'23':'Ciliated Cells',\n",
    "'24':'Endothelial Cells',\n",
    "'25':'NK/T Cells',\n",
    "'26':'Alveolar Macrophages',\n",
    "'27':'Club/Goblet/Mucous Cells',\n",
    "'28':'Alveolar Macrophages',\n",
    "'29':'Lymphatic Endothelial Cell',\n",
    "'30':'AT1 Cells',\n",
    "'31':'Neutrophils',\n",
    "'32':'Endothelial Cells',\n",
    "'33':'Mast Cells'}"
   ]
  },
  {
   "cell_type": "markdown",
   "id": "b349b8bf-420f-4760-9ecd-cefab0fc80ff",
   "metadata": {},
   "source": [
    "#### Labelling now"
   ]
  },
  {
   "cell_type": "code",
   "execution_count": null,
   "id": "8cd7bc15-3f09-4145-b0b5-61299ebe92ac",
   "metadata": {},
   "outputs": [],
   "source": [
    "integrated.obs['cell_type'] = integrated.obs.leiden.map(cell_type)"
   ]
  },
  {
   "cell_type": "markdown",
   "id": "c5d61f1a-6cb6-40e7-be4d-16fa16c51e75",
   "metadata": {},
   "source": [
    "Load the data and make new model"
   ]
  },
  {
   "cell_type": "code",
   "execution_count": null,
   "id": "c87096b8-16ed-4c5d-99d2-6cd125f77181",
   "metadata": {},
   "outputs": [],
   "source": [
    "sc.pl.umap(integrated, color = ['cell_type'], frameon = False)"
   ]
  },
  {
   "cell_type": "markdown",
   "id": "3a369d78-04d9-4c30-a3fc-0c31adb91000",
   "metadata": {},
   "source": [
    "Save markers to `.uns` slot in `integrated`"
   ]
  },
  {
   "cell_type": "code",
   "execution_count": null,
   "id": "39270dc2-df18-44e0-861d-c21a403a0f8e",
   "metadata": {},
   "outputs": [],
   "source": [
    "integrated.uns['scVI_markers'] = scVI_markers\n",
    "integrated.write_h5ad('integrated.h5ad')"
   ]
  },
  {
   "cell_type": "code",
   "execution_count": null,
   "id": "f8d9a69d-ae7f-484e-b4ca-74e8b6127ec7",
   "metadata": {},
   "outputs": [],
   "source": [
    "integrated = sc.read_h5ad('integrated.h5ad')\n",
    "adata = integrated\n",
    "del integrated"
   ]
  },
  {
   "cell_type": "code",
   "execution_count": null,
   "id": "c06f6532-38ba-43ce-bad0-78b2f26dc5c9",
   "metadata": {},
   "outputs": [],
   "source": [
    "adata = anndata.read_h5ad(path_to_anndata)\n",
    "scvi.model.SCANVI.setup_anndata(adata, batch_key=\"batch\", labels_key=\"labels\")\n",
    "vae = scvi.model.SCANVI(adata, \"Unknown\")\n",
    "vae.train()\n",
    "adata.obsm[\"X_scVI\"] = vae.get_latent_representation()\n",
    "adata.obs[\"pred_label\"] = vae.predict()"
   ]
  },
  {
   "cell_type": "markdown",
   "id": "c36482e0-43fb-4204-ade8-d76eab65abbf",
   "metadata": {},
   "source": [
    "## Cell Counts"
   ]
  },
  {
   "cell_type": "markdown",
   "id": "a5dfe3b6-9299-4456-9593-dce57d9169db",
   "metadata": {},
   "source": [
    "Let's create some other plots as an exercise and also for some more metrics"
   ]
  },
  {
   "cell_type": "markdown",
   "id": "9f310d32-6eff-4d21-9ac6-a949d31786fa",
   "metadata": {},
   "source": [
    "Load the data"
   ]
  },
  {
   "cell_type": "code",
   "execution_count": null,
   "id": "3635b6c4-0fe6-4745-bc33-f9423c729b30",
   "metadata": {},
   "outputs": [],
   "source": [
    "adata = sc.read_h5ad('integrated.h5ad')"
   ]
  },
  {
   "cell_type": "markdown",
   "id": "70cfa772-975e-493b-977b-b76283ecee08",
   "metadata": {},
   "source": [
    "Making a dictionary of number of cells per sample"
   ]
  },
  {
   "cell_type": "code",
   "execution_count": null,
   "id": "cd7b9ca8-6d7f-450a-a3e0-c6a46d7ec6ea",
   "metadata": {},
   "outputs": [],
   "source": [
    "total_cell_num = adata.obs.groupby('Sample').count()\n",
    "total_cell_num = dict(zip(total_cell_num.index, total_cell_num.n_genes))\n",
    "total_cell_num"
   ]
  },
  {
   "cell_type": "code",
   "execution_count": null,
   "id": "1e61ebc0-6198-4d54-959c-d4b22a33dc9b",
   "metadata": {},
   "outputs": [],
   "source": [
    "cell_type_counts = adata.obs.groupby(['Sample', 'cell_type']).count()\n",
    "# get rid of rows that contain 0 and reset the index so they're not grouped together\n",
    "cell_type_counts = cell_type_counts[cell_type_counts.sum(axis = 1) > 0].reset_index()\n",
    "# all the columns are the same so we don't need all 16 of them\n",
    "cell_type_counts = cell_type_counts[cell_type_counts.columns[0:3]]\n",
    "cell_type_counts"
   ]
  },
  {
   "cell_type": "markdown",
   "id": "debea171-a724-4211-b8ce-4da02b5513d1",
   "metadata": {},
   "source": [
    "Add total cells column using the dictionary we made above"
   ]
  },
  {
   "cell_type": "code",
   "execution_count": null,
   "id": "2add9e99-2720-4776-b6cc-075eeafd6c63",
   "metadata": {},
   "outputs": [],
   "source": [
    "cell_type_counts['total_cells'] = cell_type_counts.Sample.map(total_cell_num).astype(int)\n",
    "cell_type_counts = cell_type_counts.rename(columns = {'sample': 'number'})\n",
    "cell_type_counts"
   ]
  },
  {
   "cell_type": "markdown",
   "id": "a7f017ca-b233-4676-b438-26f03c6d37c7",
   "metadata": {},
   "source": [
    "Let's add a frequency column and species column"
   ]
  },
  {
   "cell_type": "code",
   "execution_count": null,
   "id": "262a2c42-4579-4748-9d52-56f85459efff",
   "metadata": {},
   "outputs": [],
   "source": [
    "def map_species(x):\n",
    "    if '00' in x:\n",
    "        return 'human'\n",
    "    else:\n",
    "        return 'cyno'"
   ]
  },
  {
   "cell_type": "code",
   "execution_count": null,
   "id": "23874443-8e58-45d9-8273-1b7e23685dd2",
   "metadata": {},
   "outputs": [],
   "source": [
    "cell_type_counts['frequency'] = cell_type_counts.number / cell_type_counts.total_cells\n",
    "cell_type_counts['species'] = cell_type_counts.Sample.map(map_species)\n",
    "# reordering the df\n",
    "cell_type_counts = cell_type_counts[['Sample', 'species', 'cell_type', 'number', 'total_cells', 'frequency']]\n",
    "cell_type_counts"
   ]
  },
  {
   "cell_type": "markdown",
   "id": "c54156ae-23a2-4216-99ed-f4b627c91e1e",
   "metadata": {},
   "source": [
    "#### Plots"
   ]
  },
  {
   "cell_type": "code",
   "execution_count": null,
   "id": "747fe7ff-ef88-4bf2-936e-d999f4aa4709",
   "metadata": {},
   "outputs": [],
   "source": [
    "plt.figure(figsize = (11,4))\n",
    "\n",
    "ax = sns.boxplot(data = cell_type_counts, x = 'cell_type', y = 'frequency', hue = 'species')\n",
    "\n",
    "plt.xticks(rotation = 35, rotation_mode = 'anchor', ha = 'right')\n",
    "\n",
    "plt.show()"
   ]
  },
  {
   "cell_type": "markdown",
   "id": "892a3441-a886-4638-98d7-474be4619bf5",
   "metadata": {},
   "source": [
    "## DE on AT1 and AT2 cells"
   ]
  },
  {
   "cell_type": "markdown",
   "id": "c123dcbf-9b3f-4d2d-b35f-14b033814e56",
   "metadata": {},
   "source": [
    "#### Subset to wanted cells"
   ]
  },
  {
   "cell_type": "code",
   "execution_count": null,
   "id": "6dc8962b-2d37-4fa2-bade-eef90202057d",
   "metadata": {},
   "outputs": [],
   "source": [
    "subset = adata[adata.obs['cell_type'].isin(['AT1 Cells', 'AT2'])].copy()"
   ]
  },
  {
   "cell_type": "markdown",
   "id": "befc0c3a-69f4-41c5-bba5-4b2ce3de78a5",
   "metadata": {},
   "source": [
    "Let's see how many genes we have"
   ]
  },
  {
   "cell_type": "code",
   "execution_count": null,
   "id": "1f470b72-483d-43c8-aee8-7767b9348f74",
   "metadata": {},
   "outputs": [],
   "source": [
    "len(subset.var)"
   ]
  },
  {
   "cell_type": "markdown",
   "id": "60c0ce64-3f7a-4e81-b2ef-e4073a274029",
   "metadata": {},
   "source": [
    "Going to refilter the subset. Some of these genes might be in a few number of cells or none at all."
   ]
  },
  {
   "cell_type": "code",
   "execution_count": null,
   "id": "0202f4da-bc49-442e-b747-2f8e311f13c0",
   "metadata": {},
   "outputs": [],
   "source": [
    "sc.pp.filter_genes(subset, min_cells = 100)"
   ]
  },
  {
   "cell_type": "code",
   "execution_count": null,
   "id": "08199bb9-aacb-4093-b4f7-49cbd668f79a",
   "metadata": {},
   "outputs": [],
   "source": [
    "len(subset.var)"
   ]
  },
  {
   "cell_type": "markdown",
   "id": "8bfbacfc-2b9c-4d9a-bb24-4f0a0b02e8fc",
   "metadata": {},
   "source": [
    "That is a much better number"
   ]
  },
  {
   "cell_type": "code",
   "execution_count": null,
   "id": "17d9e128-0902-4a18-a61e-e8d12e9a380a",
   "metadata": {},
   "outputs": [],
   "source": [
    "model = scvi.model.SCVI.load('model/', adata, use_gpu = False)"
   ]
  },
  {
   "cell_type": "code",
   "execution_count": null,
   "id": "9e52146c-8012-4d41-9ff5-784a2481fb64",
   "metadata": {},
   "outputs": [],
   "source": [
    "model"
   ]
  },
  {
   "cell_type": "markdown",
   "id": "901670f6-65a2-4814-ad67-ad71d297f9c8",
   "metadata": {},
   "source": [
    "#### `SCVI` DE"
   ]
  },
  {
   "cell_type": "code",
   "execution_count": null,
   "id": "512de880-341a-4878-9ea4-b0621e1a61af",
   "metadata": {},
   "outputs": [],
   "source": [
    "adata.obs['species'] = adata.obs.Sample.map(map_species)\n",
    "adata.obs"
   ]
  },
  {
   "cell_type": "markdown",
   "id": "cd8af8b6-6454-499f-aa64-68b0f507271c",
   "metadata": {},
   "source": [
    "Let's run this model to see how differentially expressed AT! and AT2 cells are between species"
   ]
  },
  {
   "cell_type": "code",
   "execution_count": null,
   "id": "3287d06a-f273-4289-9f93-fe5bc2d5027d",
   "metadata": {},
   "outputs": [],
   "source": [
    "# we need to pass a Boolean array for the two groups\n",
    "de = model.differential_expression(\n",
    "    idx1 = [(adata.obs['cell_type'].isin(['AT1 Cells', 'AT2'])) & (adata.obs.species == 'human')], \n",
    "    idx2 = [(adata.obs['cell_type'].isin(['AT1 Cells', 'AT2'])) & (adata.obs.species == 'cyno')]\n",
    "    )"
   ]
  },
  {
   "cell_type": "markdown",
   "id": "5e7bf612-bf45-4a68-b362-179beb67bca9",
   "metadata": {},
   "source": [
    "Let's look at the `SCVI` DE dataframe"
   ]
  },
  {
   "cell_type": "code",
   "execution_count": null,
   "id": "6efe2f1b-7d51-48c8-b125-f0ac6d89e325",
   "metadata": {},
   "outputs": [],
   "source": [
    "de.sort_values('lfc_mean', ascending = False)"
   ]
  },
  {
   "cell_type": "markdown",
   "id": "ad0cf0ea-c4e3-4f48-80d8-36449ef2dd74",
   "metadata": {},
   "source": [
    "**Based on this output, there's no differential expression really**"
   ]
  },
  {
   "cell_type": "markdown",
   "id": "96c0e719-637b-4519-934c-2d9215d44e7b",
   "metadata": {},
   "source": [
    "Let's try it by just cell type. This should be better"
   ]
  },
  {
   "cell_type": "code",
   "execution_count": null,
   "id": "ac469879-1112-4102-8dfd-a376ea8006da",
   "metadata": {},
   "outputs": [],
   "source": [
    "scvi_de = model.differential_expression(\n",
    "    idx1 = [adata.obs['cell_type'] == 'AT1 Cells'],\n",
    "    idx2 = [adata.obs['cell_type'] == 'AT2']\n",
    "    )"
   ]
  },
  {
   "cell_type": "code",
   "execution_count": null,
   "id": "4f659fff-ea21-455e-aae6-f97e909aa443",
   "metadata": {},
   "outputs": [],
   "source": [
    "scvi_de"
   ]
  },
  {
   "cell_type": "markdown",
   "id": "aa2793e2-82d9-47aa-9128-d50edd30deff",
   "metadata": {},
   "source": [
    "Yep! Looks better :)"
   ]
  },
  {
   "cell_type": "code",
   "execution_count": null,
   "id": "336d03bf-c889-4409-90bb-7f9ea9c7146a",
   "metadata": {},
   "outputs": [],
   "source": [
    "scvi_de = scvi_de[(scvi_de['is_de_fdr_0.05']) & (abs(scvi_de.lfc_mean) > 1)]\n",
    "scvi_de = scvi_de.sort_values('lfc_mean')\n",
    "scvi_de"
   ]
  },
  {
   "cell_type": "markdown",
   "id": "bc80bdeb-c485-467b-8516-2a285bde2d84",
   "metadata": {},
   "source": [
    "Some more filtering."
   ]
  },
  {
   "cell_type": "code",
   "execution_count": null,
   "id": "2444258e-8138-46ba-8eeb-c2d459e28b81",
   "metadata": {},
   "outputs": [],
   "source": [
    "scvi_de = scvi_de[(scvi_de.raw_normalized_mean1 > 0.5) | (scvi_de.raw_normalized_mean2 > 0.5)]\n",
    "scvi_de"
   ]
  },
  {
   "cell_type": "markdown",
   "id": "df282fb9-eb98-4dbc-b7a8-efc895f5e2ae",
   "metadata": {},
   "source": [
    "Saving..."
   ]
  },
  {
   "cell_type": "code",
   "execution_count": null,
   "id": "781fd543-5110-4abc-a6e5-23a87baba6fd",
   "metadata": {},
   "outputs": [],
   "source": [
    "scvi_de.to_csv('scVI_diff_exp.tsv', sep = '\\t', index = True)"
   ]
  },
  {
   "cell_type": "markdown",
   "id": "5abb864d-c989-4c03-8594-256cfa798461",
   "metadata": {},
   "source": [
    "Take the top and bottom 25 DE genes from sorted dataframe and plot heatmap"
   ]
  },
  {
   "cell_type": "code",
   "execution_count": null,
   "id": "a7f965af-5f4e-44ce-ad4f-4be0faddb8f1",
   "metadata": {},
   "outputs": [],
   "source": [
    "DE_genes = scvi_de[-25:].index.tolist() + scvi_de[:25].index.tolist()"
   ]
  },
  {
   "cell_type": "markdown",
   "id": "3a713b93-60fb-4dda-b8e8-6fc095900d1c",
   "metadata": {},
   "source": [
    "#### Heatmap of DE genes in AT1 and AT2\n",
    "Plot as heatmap with `Scanpy`"
   ]
  },
  {
   "cell_type": "code",
   "execution_count": null,
   "id": "726888e6-6e6e-46d6-a9c0-c3f035468444",
   "metadata": {},
   "outputs": [],
   "source": [
    "sc.pl.heatmap(subset, DE_genes, groupby = 'cell_type', swap_axes = True, layer = 'scVI_normalized', log = True)"
   ]
  },
  {
   "cell_type": "markdown",
   "id": "06637b37-87ea-4999-9526-fe49034222c4",
   "metadata": {},
   "source": [
    "#### GO Enrichment"
   ]
  },
  {
   "cell_type": "code",
   "execution_count": null,
   "id": "64470df3-a559-40fc-be77-fd85dfaf542b",
   "metadata": {},
   "outputs": [],
   "source": [
    "import gseapy as gp"
   ]
  },
  {
   "cell_type": "markdown",
   "id": "986c017f-363a-4cde-a74b-77acb2f5ef21",
   "metadata": {},
   "source": [
    "Let's look at available gene sets"
   ]
  },
  {
   "cell_type": "code",
   "execution_count": null,
   "id": "559ca4be-035e-4859-8920-64bf80ac3a79",
   "metadata": {
    "scrolled": true,
    "tags": []
   },
   "outputs": [],
   "source": [
    "gp.get_library_name()"
   ]
  },
  {
   "cell_type": "code",
   "execution_count": null,
   "id": "cdfa531d-42f9-4bc0-8359-acf44ffadaa7",
   "metadata": {},
   "outputs": [],
   "source": [
    "set_list = ['GO_Biological_Process_2023', 'GO_Cellular_Component_2023', 'GO_Molecular_Function_2023', 'KEGG_2021_Human']"
   ]
  },
  {
   "cell_type": "markdown",
   "id": "a008a5e4-10aa-420e-bba0-fc2bd4d0f93a",
   "metadata": {},
   "source": [
    "Background genes will be from `subset` (all the `var.names`)."
   ]
  },
  {
   "cell_type": "code",
   "execution_count": null,
   "id": "c1afb802-82eb-4c1e-8af3-3d2e36a85589",
   "metadata": {},
   "outputs": [],
   "source": [
    "enrich = gp.enrichr(gene_list = scvi_de[scvi_de.lfc_mean > 1].index.tolist(),\n",
    "                   gene_sets = set_list, \n",
    "                   organism = 'human',\n",
    "                   outdir = None,\n",
    "                   background = subset.var_names.tolist())"
   ]
  },
  {
   "cell_type": "code",
   "execution_count": null,
   "id": "ad8f98d5-4619-4b2c-a73e-c2b17aedc8aa",
   "metadata": {},
   "outputs": [],
   "source": [
    "enrich.results"
   ]
  },
  {
   "cell_type": "markdown",
   "id": "2a9a2435-6b85-472c-ad66-7f97d12299e6",
   "metadata": {},
   "source": [
    "## Comparisons"
   ]
  },
  {
   "cell_type": "markdown",
   "id": "df899775-fd34-45c8-949c-fee14eaa91fe",
   "metadata": {},
   "source": [
    "#### Plots and stats"
   ]
  },
  {
   "cell_type": "markdown",
   "id": "daa198db-b053-483b-b4b3-ea64ff0c5cfe",
   "metadata": {},
   "source": [
    "Unfortunately, ALPP and ALPG did not map to each other way back in the beginning. I should have checked for this and manually annotated them. Let's just use ALPL here which is in both data sets."
   ]
  },
  {
   "cell_type": "code",
   "execution_count": null,
   "id": "6814b8f8-0eb7-4128-a34c-df7455961564",
   "metadata": {},
   "outputs": [],
   "source": [
    "sc.pl.violin(subset[subset.obs.cell_type == 'AT1 Cells'], 'ALPL', groupby = 'species')"
   ]
  },
  {
   "cell_type": "code",
   "execution_count": null,
   "id": "674ea301-a0a7-47bb-be0f-8532ce8b558b",
   "metadata": {},
   "outputs": [],
   "source": [
    "sc.pl.violin(subset[subset.obs.cell_type == 'AT2'], 'ALPL', groupby = 'species')"
   ]
  },
  {
   "cell_type": "markdown",
   "id": "4dfe7f19-eed4-41b1-80a5-999232072718",
   "metadata": {},
   "source": [
    "Let's do some stats"
   ]
  },
  {
   "cell_type": "code",
   "execution_count": null,
   "id": "647a8534-95d1-49fa-ac59-cd4370c9f6d8",
   "metadata": {},
   "outputs": [],
   "source": [
    "from scipy import stats"
   ]
  },
  {
   "cell_type": "markdown",
   "id": "3c6001fd-33a0-4e4c-8c01-f91d17565c46",
   "metadata": {},
   "source": [
    "This here is just finding the gene index (number) and then slicing twice. The reason we slice twice is bc the output is like `(array([167]),)` so the `[0][0]` just gets us the number"
   ]
  },
  {
   "cell_type": "code",
   "execution_count": null,
   "id": "e31ce35c-9420-4c02-9f00-bb11cc52fc0c",
   "metadata": {},
   "outputs": [],
   "source": [
    "# just setting this to a variable so I don't have to type it out every time\n",
    "temp = subset[subset.obs.cell_type == 'AT1 Cells']\n",
    "\n",
    "i = np.where(temp.var_names == 'ALPL')[0][0]"
   ]
  },
  {
   "cell_type": "code",
   "execution_count": null,
   "id": "b7a18654-cfa1-4474-9167-4d1537eb1711",
   "metadata": {},
   "outputs": [],
   "source": [
    "a = temp[temp.obs.species == 'human'].X[:, i].toarray()\n",
    "b = temp[temp.obs.species == 'cyno'].X[:, i].toarray()"
   ]
  },
  {
   "cell_type": "markdown",
   "id": "3f5c5c7d-12db-4ec3-8e3d-a6415092723a",
   "metadata": {},
   "source": [
    "Let's do a non-parametric test for AT1"
   ]
  },
  {
   "cell_type": "code",
   "execution_count": null,
   "id": "5992c968-231b-4c80-b0a4-430ff750fe21",
   "metadata": {},
   "outputs": [],
   "source": [
    "stats.mannwhitneyu(a, b)"
   ]
  },
  {
   "cell_type": "markdown",
   "id": "05ac7707-df5a-4014-9134-afee5e0c27f0",
   "metadata": {},
   "source": [
    "We can see from the p-value that it isn't significant"
   ]
  },
  {
   "cell_type": "markdown",
   "id": "0a5d6167-89a7-49fd-9b92-47550337997b",
   "metadata": {},
   "source": [
    "Let's try the same for AT2"
   ]
  },
  {
   "cell_type": "code",
   "execution_count": null,
   "id": "541bcc28-849f-446d-811a-0a3a3b3a562a",
   "metadata": {},
   "outputs": [],
   "source": [
    "temp = subset[subset.obs.cell_type == 'AT2']\n",
    "\n",
    "i = np.where(temp.var_names == 'ALPL')[0][0]\n",
    "a = temp[temp.obs.species == 'human'].X[:, i].toarray()\n",
    "b = temp[temp.obs.species == 'cyno'].X[:, i].toarray()"
   ]
  },
  {
   "cell_type": "code",
   "execution_count": null,
   "id": "cca9c700-ce78-42d9-add2-20a5541c58fc",
   "metadata": {},
   "outputs": [],
   "source": [
    "stats.mannwhitneyu(a, b)"
   ]
  },
  {
   "cell_type": "markdown",
   "id": "e86aa800-8087-4a3a-b3fb-9338d9dbb9f2",
   "metadata": {},
   "source": [
    "Stll not significan't between the both of them!"
   ]
  },
  {
   "cell_type": "markdown",
   "id": "093d538e-80bf-49b7-b873-73a2ac047636",
   "metadata": {},
   "source": [
    "## Score Gene Signature"
   ]
  },
  {
   "cell_type": "markdown",
   "id": "865ea3fd-734c-4510-bd7b-d183f2ddd842",
   "metadata": {},
   "source": [
    "#### `Scanpy`'s `score_genes` function.\n",
    "\n",
    "This is super useful when elucidating cell types. You can pass a list of cell markers and see how well they score. The gene list should be above 10 genes for it to work."
   ]
  },
  {
   "cell_type": "code",
   "execution_count": null,
   "id": "350c56df-4655-41da-abc3-3c2d62c31fb7",
   "metadata": {},
   "outputs": [],
   "source": [
    "sc.tl.score_genes(subset, DE_genes, score_name = 'de')"
   ]
  },
  {
   "cell_type": "code",
   "execution_count": null,
   "id": "9965fa56-0e52-47e1-b8fd-1a21da12ccb3",
   "metadata": {},
   "outputs": [],
   "source": [
    "subset.obs.head()"
   ]
  },
  {
   "cell_type": "markdown",
   "id": "ec86fd99-8352-45d0-aa78-b605d20714ee",
   "metadata": {},
   "source": [
    "All this did was add a column to our `.obs` data frame. This new column values are the relative expression of those genes from the list compared to the background. The numbers are arbitrary (so you can't compare between gene lists) but you can compare between cells (which is what we'll do next)."
   ]
  },
  {
   "cell_type": "markdown",
   "id": "54569bd0-6e03-45f3-b77a-4febb0ceb5fe",
   "metadata": {},
   "source": [
    "#### Violin Plots"
   ]
  },
  {
   "cell_type": "markdown",
   "id": "7cfa934d-8590-46ea-99f0-41ffede4cb2e",
   "metadata": {},
   "source": [
    "Comparing between cell types"
   ]
  },
  {
   "cell_type": "code",
   "execution_count": null,
   "id": "b26bc156-9f8b-4e68-82d1-14538c3a4ab1",
   "metadata": {},
   "outputs": [],
   "source": [
    "sc.pl.violin(subset, 'de', groupby = 'cell_type')"
   ]
  },
  {
   "cell_type": "markdown",
   "id": "715850fd-91e9-41ce-b417-d4777fcd2e5b",
   "metadata": {},
   "source": [
    "Comparing between species"
   ]
  },
  {
   "cell_type": "code",
   "execution_count": null,
   "id": "32c0ec37-b9d7-49f9-9826-088ed8979beb",
   "metadata": {},
   "outputs": [],
   "source": [
    "sc.pl.violin(subset, 'de', groupby = 'species')"
   ]
  },
  {
   "cell_type": "markdown",
   "id": "f52d47ea-9225-4c01-a6bc-2f09a8cdb5a6",
   "metadata": {},
   "source": [
    "Comparing between samples"
   ]
  },
  {
   "cell_type": "code",
   "execution_count": null,
   "id": "1130d215-31cd-4f78-808a-77a7614facd2",
   "metadata": {},
   "outputs": [],
   "source": [
    "sc.pl.violin(subset, 'de', groupby = 'Sample')"
   ]
  },
  {
   "cell_type": "markdown",
   "id": "495ff253-bc2b-4e0d-a1db-ca365412f5c6",
   "metadata": {},
   "source": [
    "Can also run some stas with this `de` column"
   ]
  },
  {
   "cell_type": "code",
   "execution_count": null,
   "id": "6629d448-de4c-48aa-ba57-664de6c53798",
   "metadata": {},
   "outputs": [],
   "source": [
    "a = subset[subset.obs.species == 'human'].obs.de.values\n",
    "b = subset[subset.obs.species == 'cyno'].obs.de.values\n",
    "\n",
    "stats.mannwhitneyu(a, b)"
   ]
  },
  {
   "cell_type": "markdown",
   "id": "08f86c1c-570a-4261-b99e-e9e5508e9630",
   "metadata": {},
   "source": [
    "#### UMAP"
   ]
  },
  {
   "cell_type": "markdown",
   "id": "65f7e432-dae2-49c0-a76b-d2b2cd7e2212",
   "metadata": {},
   "source": [
    "You can also show this data via UMAP"
   ]
  },
  {
   "cell_type": "code",
   "execution_count": null,
   "id": "daa08b39-4714-46f7-b900-344275ab1d53",
   "metadata": {},
   "outputs": [],
   "source": [
    "sc.pl.umap(subset, color = 'de', vmax = 0.5)"
   ]
  },
  {
   "cell_type": "markdown",
   "id": "fcd10900-3a39-47b7-bc6d-41d786dd66f7",
   "metadata": {},
   "source": [
    "# The End"
   ]
  },
  {
   "cell_type": "markdown",
   "id": "40623837-c3b2-4727-a9f2-02cb762b10e1",
   "metadata": {},
   "source": [
    "That's it! That is my attempt as a cross-species analysis. Now that you all have the basics, hopefully you can improve upon it. For example the orthologous genes could have maybe been done better, and also you can use `scANVI` (extension of `scVI` which there is some documentation for online) to do the cell type annotation. I decided to manually do it since we are working with two species, but I guess it may not matter too much. The next step is to take this AnnData and hopefully build a prototype Shiny app in R.\n",
    "\n",
    "I want to say a big thanks to Kari for this opportunity this summer (2023). I really appreciate it! I learned a lot on this project and it was quite fun! I hope that you guys in iTox and Computational Toxicology use this as a resource in the future!\n",
    "\n",
    "\n",
    "-Dan Carvalho"
   ]
  },
  {
   "cell_type": "markdown",
   "id": "da7750ba-f9da-4a29-af18-d75a67012829",
   "metadata": {},
   "source": [
    "### Saving the AnnData, as well as counts, genes, cells, and metadata for export to R"
   ]
  },
  {
   "cell_type": "code",
   "execution_count": null,
   "id": "99bc14e3-dd8a-402f-a03b-ba8b5469a1c5",
   "metadata": {},
   "outputs": [],
   "source": [
    "adata.write_h5ad('integrated.h5ad')"
   ]
  },
  {
   "cell_type": "code",
   "execution_count": null,
   "id": "8e5e6ce3-5b20-4c5a-8da2-f2e887311535",
   "metadata": {},
   "outputs": [],
   "source": [
    "integrated_counts = adata.X\n",
    "integrated_genes = adata.var_names.tolist()\n",
    "integrated_cells = adata.obs_names.tolist()\n",
    "observations = adata.obs\n",
    "var = adata.var"
   ]
  },
  {
   "cell_type": "markdown",
   "id": "845d4a6a-9ae4-4ade-a392-db684a795af7",
   "metadata": {},
   "source": [
    "#### Save counts (sparse matrix) to disc"
   ]
  },
  {
   "cell_type": "code",
   "execution_count": null,
   "id": "10d0c562-7674-4c93-acb8-c829ce07ff77",
   "metadata": {},
   "outputs": [],
   "source": [
    "from scipy.sparse import save_npz\n",
    "save_npz('integrated_counts.npz', integrated_counts)"
   ]
  },
  {
   "cell_type": "markdown",
   "id": "86f395c6-fe60-4418-81a6-4afffd1c0935",
   "metadata": {},
   "source": [
    "#### Save gene names as CSV"
   ]
  },
  {
   "cell_type": "code",
   "execution_count": null,
   "id": "0e05f85e-b41d-423c-8089-c6a7b41355d2",
   "metadata": {},
   "outputs": [],
   "source": [
    "ig = pd.DataFrame({'gene': integrated_genes})\n",
    "\n",
    "ig.to_csv('integrated_genes.csv', sep = ',', index = False)"
   ]
  },
  {
   "cell_type": "markdown",
   "id": "958fdaa1-b739-40d2-b215-5e50f92a826c",
   "metadata": {},
   "source": [
    "#### Save cell names as CSV"
   ]
  },
  {
   "cell_type": "code",
   "execution_count": null,
   "id": "c3a5b02e-cb68-4842-a92a-9a3492513f79",
   "metadata": {},
   "outputs": [],
   "source": [
    "ig = pd.DataFrame({'cell': integrated_cells})\n",
    "\n",
    "ig.to_csv('integrated_cells.csv', sep = ',', index = False)"
   ]
  },
  {
   "cell_type": "markdown",
   "id": "a336b3b5-6b7d-45ae-97f2-c43bbbd8d56d",
   "metadata": {},
   "source": [
    "#### Metadata"
   ]
  },
  {
   "cell_type": "markdown",
   "id": "e9c702e5-db91-4a5a-a62a-939679b1f349",
   "metadata": {},
   "source": [
    "Will save as TSV"
   ]
  },
  {
   "cell_type": "code",
   "execution_count": null,
   "id": "6347fa7c-df55-4c27-8d88-3826a5d51d58",
   "metadata": {},
   "outputs": [],
   "source": [
    "observations.to_csv('integrated_obs.tsv', sep = '\\t', index = True)\n",
    "var.to_csv('integrated_var.tsv', sep = '\\t', index = True)"
   ]
  },
  {
   "cell_type": "code",
   "execution_count": 3,
   "id": "e7d1fff5-cf5c-4805-848b-95a752846970",
   "metadata": {},
   "outputs": [],
   "source": [
    "adata = sc.read_h5ad('cs_analysis/data/integrated.h5ad')"
   ]
  },
  {
   "cell_type": "code",
   "execution_count": 12,
   "id": "74294c5e-8f62-499a-9778-e4b1a79af001",
   "metadata": {},
   "outputs": [],
   "source": [
    "adata.X = adata.X.todense()"
   ]
  },
  {
   "cell_type": "code",
   "execution_count": 13,
   "id": "19420f46-cf1e-47d9-a170-d7e4199df96c",
   "metadata": {},
   "outputs": [
    {
     "data": {
      "text/plain": [
       "matrix([[0.       , 0.       , 0.       , ..., 0.       , 0.       ,\n",
       "         0.       ],\n",
       "        [0.       , 0.       , 0.       , ..., 0.       , 0.       ,\n",
       "         0.       ],\n",
       "        [0.       , 0.       , 0.       , ..., 0.       , 0.       ,\n",
       "         0.       ],\n",
       "        ...,\n",
       "        [0.       , 0.       , 0.       , ..., 0.       , 0.       ,\n",
       "         1.8483456],\n",
       "        [0.       , 0.       , 0.       , ..., 0.       , 0.       ,\n",
       "         0.       ],\n",
       "        [0.       , 0.       , 0.       , ..., 0.       , 0.       ,\n",
       "         0.       ]], dtype=float32)"
      ]
     },
     "execution_count": 13,
     "metadata": {},
     "output_type": "execute_result"
    }
   ],
   "source": [
    "adata.X"
   ]
  },
  {
   "cell_type": "code",
   "execution_count": null,
   "id": "a6c2377b-15af-41a2-90fa-de59f5ccae2a",
   "metadata": {},
   "outputs": [],
   "source": [
    "adata.write(filename = 'cs_analysis/data/integrated_dense.h5ad')"
   ]
  }
 ],
 "metadata": {
  "kernelspec": {
   "display_name": "Python 3 (ipykernel)",
   "language": "python",
   "name": "python3"
  },
  "language_info": {
   "codemirror_mode": {
    "name": "ipython",
    "version": 3
   },
   "file_extension": ".py",
   "mimetype": "text/x-python",
   "name": "python",
   "nbconvert_exporter": "python",
   "pygments_lexer": "ipython3",
   "version": "3.11.1"
  }
 },
 "nbformat": 4,
 "nbformat_minor": 5
}
